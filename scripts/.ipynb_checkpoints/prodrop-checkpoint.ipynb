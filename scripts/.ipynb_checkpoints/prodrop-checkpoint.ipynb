{
 "cells": [
  {
   "cell_type": "markdown",
   "id": "7a1d1065-f33f-462b-b357-216ec2f39f53",
   "metadata": {},
   "source": [
    "Text preprocessing"
   ]
  },
  {
   "cell_type": "code",
   "execution_count": 49,
   "id": "cb08f62a",
   "metadata": {},
   "outputs": [
    {
     "name": "stdout",
     "output_type": "stream",
     "text": [
      "Requirement already satisfied: requests in /usr/lib/python3/dist-packages (2.22.0)\r\n"
     ]
    }
   ],
   "source": [
    "# !pip3 install pandas\n",
    "!pip3 install requests"
   ]
  },
  {
   "cell_type": "code",
   "execution_count": 85,
   "id": "983a9232",
   "metadata": {},
   "outputs": [],
   "source": [
    "import os, re\n",
    "import pandas\n",
    "import ufal.udpipe\n",
    "import conllu"
   ]
  },
  {
   "cell_type": "code",
   "execution_count": 86,
   "id": "3ffc427f",
   "metadata": {},
   "outputs": [
    {
     "ename": "NameError",
     "evalue": "name 're' is not defined",
     "output_type": "error",
     "traceback": [
      "\u001b[0;31m---------------------------------------------------------------------------\u001b[0m",
      "\u001b[0;31mNameError\u001b[0m                                 Traceback (most recent call last)",
      "\u001b[0;32m<ipython-input-86-73a669db44e4>\u001b[0m in \u001b[0;36m<module>\u001b[0;34m\u001b[0m\n\u001b[0;32m----> 1\u001b[0;31m \u001b[0;32mfrom\u001b[0m \u001b[0mvoters\u001b[0m \u001b[0;32mimport\u001b[0m \u001b[0mprodrop_check\u001b[0m\u001b[0;34m\u001b[0m\u001b[0;34m\u001b[0m\u001b[0m\n\u001b[0m",
      "\u001b[0;32m~/Desktop/MA-thesis/scripts/voters.py\u001b[0m in \u001b[0;36m<module>\u001b[0;34m\u001b[0m\n\u001b[0;32m----> 1\u001b[0;31m \u001b[0;32mimport\u001b[0m \u001b[0mprodrop_check\u001b[0m\u001b[0;34m\u001b[0m\u001b[0;34m\u001b[0m\u001b[0m\n\u001b[0m\u001b[1;32m      2\u001b[0m \u001b[0;32mfrom\u001b[0m \u001b[0mabc\u001b[0m \u001b[0;32mimport\u001b[0m \u001b[0mABC\u001b[0m\u001b[0;34m,\u001b[0m \u001b[0mabstractmethod\u001b[0m\u001b[0;34m\u001b[0m\u001b[0;34m\u001b[0m\u001b[0m\n\u001b[1;32m      3\u001b[0m \u001b[0;34m\u001b[0m\u001b[0m\n\u001b[1;32m      4\u001b[0m \u001b[0;34m\u001b[0m\u001b[0m\n\u001b[1;32m      5\u001b[0m \u001b[0;32mclass\u001b[0m \u001b[0mVoter\u001b[0m\u001b[0;34m(\u001b[0m\u001b[0mABC\u001b[0m\u001b[0;34m)\u001b[0m\u001b[0;34m:\u001b[0m\u001b[0;34m\u001b[0m\u001b[0;34m\u001b[0m\u001b[0m\n",
      "\u001b[0;32m~/Desktop/MA-thesis/scripts/prodrop_check.py\u001b[0m in \u001b[0;36m<module>\u001b[0;34m\u001b[0m\n\u001b[1;32m      2\u001b[0m \u001b[0;34m\u001b[0m\u001b[0m\n\u001b[1;32m      3\u001b[0m \u001b[0;34m\u001b[0m\u001b[0m\n\u001b[0;32m----> 4\u001b[0;31m \u001b[0mATT_VERBS\u001b[0m \u001b[0;34m=\u001b[0m \u001b[0mget_att_dict\u001b[0m\u001b[0;34m(\u001b[0m\u001b[0;34m)\u001b[0m\u001b[0;34m\u001b[0m\u001b[0;34m\u001b[0m\u001b[0m\n\u001b[0m\u001b[1;32m      5\u001b[0m \u001b[0;34m\u001b[0m\u001b[0m\n\u001b[1;32m      6\u001b[0m \u001b[0;34m\u001b[0m\u001b[0m\n",
      "\u001b[0;32m~/Desktop/MA-thesis/scripts/dictionaries.py\u001b[0m in \u001b[0;36mget_att_dict\u001b[0;34m()\u001b[0m\n\u001b[1;32m      3\u001b[0m \u001b[0;32mdef\u001b[0m \u001b[0mget_att_dict\u001b[0m\u001b[0;34m(\u001b[0m\u001b[0;34m)\u001b[0m\u001b[0;34m:\u001b[0m\u001b[0;34m\u001b[0m\u001b[0;34m\u001b[0m\u001b[0m\n\u001b[1;32m      4\u001b[0m     \u001b[0;32mwith\u001b[0m \u001b[0mopen\u001b[0m\u001b[0;34m(\u001b[0m\u001b[0;34m'att_verbs.txt'\u001b[0m\u001b[0;34m,\u001b[0m \u001b[0;34m'r'\u001b[0m\u001b[0;34m,\u001b[0m \u001b[0mencoding\u001b[0m\u001b[0;34m=\u001b[0m\u001b[0;34m'utf-8'\u001b[0m\u001b[0;34m)\u001b[0m \u001b[0;32mas\u001b[0m \u001b[0mf\u001b[0m\u001b[0;34m:\u001b[0m\u001b[0;34m\u001b[0m\u001b[0;34m\u001b[0m\u001b[0m\n\u001b[0;32m----> 5\u001b[0;31m         \u001b[0matt_verbs\u001b[0m \u001b[0;34m=\u001b[0m \u001b[0mf\u001b[0m\u001b[0;34m.\u001b[0m\u001b[0mread\u001b[0m\u001b[0;34m(\u001b[0m\u001b[0;34m)\u001b[0m\u001b[0;34m\u001b[0m\u001b[0;34m\u001b[0m\u001b[0m\n\u001b[0m\u001b[1;32m      6\u001b[0m \u001b[0;34m\u001b[0m\u001b[0m\n\u001b[1;32m      7\u001b[0m     \u001b[0matt_verbs\u001b[0m \u001b[0;34m=\u001b[0m \u001b[0mre\u001b[0m\u001b[0;34m.\u001b[0m\u001b[0msplit\u001b[0m\u001b[0;34m(\u001b[0m\u001b[0;34m'[\\n,]'\u001b[0m\u001b[0;34m,\u001b[0m \u001b[0matt_verbs\u001b[0m\u001b[0;34m)\u001b[0m\u001b[0;34m\u001b[0m\u001b[0;34m\u001b[0m\u001b[0m\n",
      "\u001b[0;31mNameError\u001b[0m: name 're' is not defined"
     ]
    }
   ],
   "source": [
    "from voters import prodrop_check"
   ]
  },
  {
   "cell_type": "code",
   "execution_count": 4,
   "id": "f59d9c67-05bb-42f9-80f6-2ace5c031d9d",
   "metadata": {},
   "outputs": [],
   "source": [
    "DATA = os.path.join(os.getcwd(), 'Gold_standard_for_validation.txt')"
   ]
  },
  {
   "cell_type": "code",
   "execution_count": 5,
   "id": "9249c0fb-b80c-4157-ae3c-67231c427e34",
   "metadata": {},
   "outputs": [],
   "source": [
    "with open(DATA, mode='r', encoding='utf-16') as data:\n",
    "    corpus = data.read()"
   ]
  },
  {
   "cell_type": "code",
   "execution_count": 6,
   "id": "5495194c-d6e5-497d-b6a6-50ee188dfc34",
   "metadata": {},
   "outputs": [
    {
     "data": {
      "text/plain": [
       "'Борис'"
      ]
     },
     "execution_count": 6,
     "metadata": {},
     "output_type": "execute_result"
    }
   ],
   "source": [
    "corpus[:5]"
   ]
  },
  {
   "cell_type": "code",
   "execution_count": 7,
   "id": "0b89f8a9",
   "metadata": {},
   "outputs": [],
   "source": [
    "with open(DATA, mode='r', encoding='utf-16') as data:\n",
    "    df = pandas.read_csv(data, sep='\\t', header=None, names=['sentence', 'class', 'nan'])"
   ]
  },
  {
   "cell_type": "code",
   "execution_count": 8,
   "id": "88e6f613",
   "metadata": {},
   "outputs": [],
   "source": [
    "df = df.drop(['nan'], axis=1).drop([181])"
   ]
  },
  {
   "cell_type": "code",
   "execution_count": 9,
   "id": "c2ce71ed",
   "metadata": {},
   "outputs": [
    {
     "data": {
      "text/html": [
       "<div>\n",
       "<style scoped>\n",
       "    .dataframe tbody tr th:only-of-type {\n",
       "        vertical-align: middle;\n",
       "    }\n",
       "\n",
       "    .dataframe tbody tr th {\n",
       "        vertical-align: top;\n",
       "    }\n",
       "\n",
       "    .dataframe thead th {\n",
       "        text-align: right;\n",
       "    }\n",
       "</style>\n",
       "<table border=\"1\" class=\"dataframe\">\n",
       "  <thead>\n",
       "    <tr style=\"text-align: right;\">\n",
       "      <th></th>\n",
       "      <th>sentence</th>\n",
       "      <th>class</th>\n",
       "    </tr>\n",
       "  </thead>\n",
       "  <tbody>\n",
       "    <tr>\n",
       "      <th>0</th>\n",
       "      <td>Борис сказал, что придёт.</td>\n",
       "      <td>coreference resolution</td>\n",
       "    </tr>\n",
       "    <tr>\n",
       "      <th>1</th>\n",
       "      <td>Борис сказал, что он придёт.</td>\n",
       "      <td>TRUE</td>\n",
       "    </tr>\n",
       "    <tr>\n",
       "      <th>2</th>\n",
       "      <td>Борис говорил, что это он сделал</td>\n",
       "      <td>TRUE</td>\n",
       "    </tr>\n",
       "    <tr>\n",
       "      <th>3</th>\n",
       "      <td>Борис объявил, что он готов</td>\n",
       "      <td>TRUE</td>\n",
       "    </tr>\n",
       "    <tr>\n",
       "      <th>4</th>\n",
       "      <td>Борис объявил, что готов</td>\n",
       "      <td>coreference resolution</td>\n",
       "    </tr>\n",
       "    <tr>\n",
       "      <th>...</th>\n",
       "      <td>...</td>\n",
       "      <td>...</td>\n",
       "    </tr>\n",
       "    <tr>\n",
       "      <th>176</th>\n",
       "      <td>Лена пообещала, что мне покажет свой дом завтра.</td>\n",
       "      <td>FALSE</td>\n",
       "    </tr>\n",
       "    <tr>\n",
       "      <th>177</th>\n",
       "      <td>Лена сказала, что к празднику она хочет пригот...</td>\n",
       "      <td>TRUE</td>\n",
       "    </tr>\n",
       "    <tr>\n",
       "      <th>178</th>\n",
       "      <td>Лена сказала, что к празднику хочет приготовит...</td>\n",
       "      <td>TRUE</td>\n",
       "    </tr>\n",
       "    <tr>\n",
       "      <th>179</th>\n",
       "      <td>Я всех предупредил, что по выходным я работаю ...</td>\n",
       "      <td>TRUE</td>\n",
       "    </tr>\n",
       "    <tr>\n",
       "      <th>180</th>\n",
       "      <td>Я всех предупредил, что по выходным работаю на...</td>\n",
       "      <td>TRUE</td>\n",
       "    </tr>\n",
       "  </tbody>\n",
       "</table>\n",
       "<p>181 rows × 2 columns</p>\n",
       "</div>"
      ],
      "text/plain": [
       "                                              sentence                   class\n",
       "0                            Борис сказал, что придёт.  coreference resolution\n",
       "1                         Борис сказал, что он придёт.                    TRUE\n",
       "2                     Борис говорил, что это он сделал                    TRUE\n",
       "3                          Борис объявил, что он готов                    TRUE\n",
       "4                             Борис объявил, что готов  coreference resolution\n",
       "..                                                 ...                     ...\n",
       "176   Лена пообещала, что мне покажет свой дом завтра.                   FALSE\n",
       "177  Лена сказала, что к празднику она хочет пригот...                    TRUE\n",
       "178  Лена сказала, что к празднику хочет приготовит...                    TRUE\n",
       "179  Я всех предупредил, что по выходным я работаю ...                    TRUE\n",
       "180  Я всех предупредил, что по выходным работаю на...                    TRUE\n",
       "\n",
       "[181 rows x 2 columns]"
      ]
     },
     "execution_count": 9,
     "metadata": {},
     "output_type": "execute_result"
    }
   ],
   "source": [
    "df"
   ]
  },
  {
   "cell_type": "markdown",
   "id": "124b2df3",
   "metadata": {},
   "source": [
    "## UDPipe Parsing"
   ]
  },
  {
   "cell_type": "code",
   "execution_count": 10,
   "id": "e31eb05d",
   "metadata": {},
   "outputs": [
    {
     "name": "stdout",
     "output_type": "stream",
     "text": [
      "Requirement already satisfied: ufal.udpipe in /home/lauberto/.local/lib/python3.8/site-packages (1.2.0.3)\r\n"
     ]
    }
   ],
   "source": [
    "# !pip3 install conllu\n",
    "!pip3 install ufal.udpipe"
   ]
  },
  {
   "cell_type": "code",
   "execution_count": 70,
   "id": "47d16039",
   "metadata": {},
   "outputs": [],
   "source": [
    "txt = 'Борис сказал, что придёт'\n",
    "txt2 = 'Борис сказал, что он придёт'\n",
    "x = udpipe_req(txt)\n",
    "y = udpipe_req(txt2)"
   ]
  },
  {
   "cell_type": "code",
   "execution_count": 72,
   "id": "4193e36b",
   "metadata": {},
   "outputs": [
    {
     "name": "stdout",
     "output_type": "stream",
     "text": [
      "CPU times: user 806 ms, sys: 120 ms, total: 926 ms\n",
      "Wall time: 1min 39s\n"
     ]
    }
   ],
   "source": [
    "%%time\n",
    "df['conllu'] = df['sentence'].apply(lambda x: udpipe_req(x))"
   ]
  },
  {
   "cell_type": "code",
   "execution_count": 76,
   "id": "7b5dc373",
   "metadata": {},
   "outputs": [
    {
     "data": {
      "text/plain": [
       "[TokenList<Борис, сказал, ,, что, придёт, .>]"
      ]
     },
     "execution_count": 76,
     "metadata": {},
     "output_type": "execute_result"
    }
   ],
   "source": [
    "df['conllu'][0]"
   ]
  },
  {
   "cell_type": "markdown",
   "id": "6dee4ed0",
   "metadata": {},
   "source": [
    "#### Get the attitude verbs"
   ]
  },
  {
   "cell_type": "code",
   "execution_count": 249,
   "id": "545e60ed",
   "metadata": {},
   "outputs": [
    {
     "name": "stdout",
     "output_type": "stream",
     "text": [
      "CPU times: user 3.02 ms, sys: 3.99 ms, total: 7.01 ms\n",
      "Wall time: 5.85 s\n"
     ]
    },
    {
     "data": {
      "text/plain": [
       "'coreference resolution'"
      ]
     },
     "execution_count": 249,
     "metadata": {},
     "output_type": "execute_result"
    }
   ],
   "source": [
    "%%time\n",
    "prodrop_check('Борис сказал, что придет')"
   ]
  },
  {
   "cell_type": "code",
   "execution_count": 250,
   "id": "c98c2cc6",
   "metadata": {},
   "outputs": [
    {
     "name": "stdout",
     "output_type": "stream",
     "text": [
      "CPU times: user 6.96 ms, sys: 0 ns, total: 6.96 ms\n",
      "Wall time: 6.03 s\n"
     ]
    },
    {
     "data": {
      "text/plain": [
       "'TRUE'"
      ]
     },
     "execution_count": 250,
     "metadata": {},
     "output_type": "execute_result"
    }
   ],
   "source": [
    "%%time\n",
    "prodrop_check('Борис сказал, что он придет')"
   ]
  },
  {
   "cell_type": "code",
   "execution_count": 251,
   "id": "932a908b",
   "metadata": {},
   "outputs": [
    {
     "data": {
      "text/plain": [
       "'TRUE'"
      ]
     },
     "execution_count": 251,
     "metadata": {},
     "output_type": "execute_result"
    }
   ],
   "source": [
    "prodrop_check(y)"
   ]
  },
  {
   "cell_type": "code",
   "execution_count": 252,
   "id": "dc2ce440",
   "metadata": {},
   "outputs": [
    {
     "data": {
      "text/html": [
       "<div>\n",
       "<style scoped>\n",
       "    .dataframe tbody tr th:only-of-type {\n",
       "        vertical-align: middle;\n",
       "    }\n",
       "\n",
       "    .dataframe tbody tr th {\n",
       "        vertical-align: top;\n",
       "    }\n",
       "\n",
       "    .dataframe thead th {\n",
       "        text-align: right;\n",
       "    }\n",
       "</style>\n",
       "<table border=\"1\" class=\"dataframe\">\n",
       "  <thead>\n",
       "    <tr style=\"text-align: right;\">\n",
       "      <th></th>\n",
       "      <th>sentence</th>\n",
       "      <th>class</th>\n",
       "      <th>conllu</th>\n",
       "    </tr>\n",
       "  </thead>\n",
       "  <tbody>\n",
       "    <tr>\n",
       "      <th>0</th>\n",
       "      <td>Борис сказал, что придёт.</td>\n",
       "      <td>coreference resolution</td>\n",
       "      <td>[[{'id': 1, 'form': 'Борис', 'lemma': 'Борис',...</td>\n",
       "    </tr>\n",
       "    <tr>\n",
       "      <th>1</th>\n",
       "      <td>Борис сказал, что он придёт.</td>\n",
       "      <td>TRUE</td>\n",
       "      <td>[[{'id': 1, 'form': 'Борис', 'lemma': 'Борис',...</td>\n",
       "    </tr>\n",
       "    <tr>\n",
       "      <th>2</th>\n",
       "      <td>Борис говорил, что это он сделал</td>\n",
       "      <td>TRUE</td>\n",
       "      <td>[[{'id': 1, 'form': 'Борис', 'lemma': 'Борис',...</td>\n",
       "    </tr>\n",
       "    <tr>\n",
       "      <th>3</th>\n",
       "      <td>Борис объявил, что он готов</td>\n",
       "      <td>TRUE</td>\n",
       "      <td>[[{'id': 1, 'form': 'Борис', 'lemma': 'Борис',...</td>\n",
       "    </tr>\n",
       "    <tr>\n",
       "      <th>4</th>\n",
       "      <td>Борис объявил, что готов</td>\n",
       "      <td>coreference resolution</td>\n",
       "      <td>[[{'id': 1, 'form': 'Борис', 'lemma': 'Борис',...</td>\n",
       "    </tr>\n",
       "    <tr>\n",
       "      <th>...</th>\n",
       "      <td>...</td>\n",
       "      <td>...</td>\n",
       "      <td>...</td>\n",
       "    </tr>\n",
       "    <tr>\n",
       "      <th>176</th>\n",
       "      <td>Лена пообещала, что мне покажет свой дом завтра.</td>\n",
       "      <td>FALSE</td>\n",
       "      <td>[[{'id': 1, 'form': 'Лена', 'lemma': 'Лена', '...</td>\n",
       "    </tr>\n",
       "    <tr>\n",
       "      <th>177</th>\n",
       "      <td>Лена сказала, что к празднику она хочет пригот...</td>\n",
       "      <td>TRUE</td>\n",
       "      <td>[[{'id': 1, 'form': 'Лена', 'lemma': 'Лена', '...</td>\n",
       "    </tr>\n",
       "    <tr>\n",
       "      <th>178</th>\n",
       "      <td>Лена сказала, что к празднику хочет приготовит...</td>\n",
       "      <td>TRUE</td>\n",
       "      <td>[[{'id': 1, 'form': 'Лена', 'lemma': 'Лена', '...</td>\n",
       "    </tr>\n",
       "    <tr>\n",
       "      <th>179</th>\n",
       "      <td>Я всех предупредил, что по выходным я работаю ...</td>\n",
       "      <td>TRUE</td>\n",
       "      <td>[[{'id': 1, 'form': 'Я', 'lemma': 'я', 'upos':...</td>\n",
       "    </tr>\n",
       "    <tr>\n",
       "      <th>180</th>\n",
       "      <td>Я всех предупредил, что по выходным работаю на...</td>\n",
       "      <td>TRUE</td>\n",
       "      <td>[[{'id': 1, 'form': 'Я', 'lemma': 'я', 'upos':...</td>\n",
       "    </tr>\n",
       "  </tbody>\n",
       "</table>\n",
       "<p>181 rows × 3 columns</p>\n",
       "</div>"
      ],
      "text/plain": [
       "                                              sentence  \\\n",
       "0                            Борис сказал, что придёт.   \n",
       "1                         Борис сказал, что он придёт.   \n",
       "2                     Борис говорил, что это он сделал   \n",
       "3                          Борис объявил, что он готов   \n",
       "4                             Борис объявил, что готов   \n",
       "..                                                 ...   \n",
       "176   Лена пообещала, что мне покажет свой дом завтра.   \n",
       "177  Лена сказала, что к празднику она хочет пригот...   \n",
       "178  Лена сказала, что к празднику хочет приготовит...   \n",
       "179  Я всех предупредил, что по выходным я работаю ...   \n",
       "180  Я всех предупредил, что по выходным работаю на...   \n",
       "\n",
       "                      class                                             conllu  \n",
       "0    coreference resolution  [[{'id': 1, 'form': 'Борис', 'lemma': 'Борис',...  \n",
       "1                      TRUE  [[{'id': 1, 'form': 'Борис', 'lemma': 'Борис',...  \n",
       "2                      TRUE  [[{'id': 1, 'form': 'Борис', 'lemma': 'Борис',...  \n",
       "3                      TRUE  [[{'id': 1, 'form': 'Борис', 'lemma': 'Борис',...  \n",
       "4    coreference resolution  [[{'id': 1, 'form': 'Борис', 'lemma': 'Борис',...  \n",
       "..                      ...                                                ...  \n",
       "176                   FALSE  [[{'id': 1, 'form': 'Лена', 'lemma': 'Лена', '...  \n",
       "177                    TRUE  [[{'id': 1, 'form': 'Лена', 'lemma': 'Лена', '...  \n",
       "178                    TRUE  [[{'id': 1, 'form': 'Лена', 'lemma': 'Лена', '...  \n",
       "179                    TRUE  [[{'id': 1, 'form': 'Я', 'lemma': 'я', 'upos':...  \n",
       "180                    TRUE  [[{'id': 1, 'form': 'Я', 'lemma': 'я', 'upos':...  \n",
       "\n",
       "[181 rows x 3 columns]"
      ]
     },
     "execution_count": 252,
     "metadata": {},
     "output_type": "execute_result"
    }
   ],
   "source": [
    "df"
   ]
  },
  {
   "cell_type": "code",
   "execution_count": 255,
   "id": "897baf8c",
   "metadata": {},
   "outputs": [],
   "source": [
    "x = udpipe_reqreqreqreqreqpe_reqpe_reqpe_reqpe_reqpipe_reqpipe_reqpipe_req('Борис думает, что это хорошо, что он не будет жить один')"
   ]
  },
  {
   "cell_type": "code",
   "execution_count": 256,
   "id": "7d284a9f",
   "metadata": {},
   "outputs": [
    {
     "data": {
      "text/plain": [
       "([5, 9], [11])"
      ]
     },
     "execution_count": 256,
     "metadata": {},
     "output_type": "execute_result"
    }
   ],
   "source": [
    "detect_overt_pron(x), detect_null_pron(x)"
   ]
  },
  {
   "cell_type": "code",
   "execution_count": 253,
   "id": "3c8879ec",
   "metadata": {},
   "outputs": [
    {
     "name": "stdout",
     "output_type": "stream",
     "text": [
      "CPU times: user 923 ms, sys: 99.1 ms, total: 1.02 s\n",
      "Wall time: 17min 30s\n"
     ]
    }
   ],
   "source": [
    "%%time\n",
    "df['att_verb'] = df['sentence'].apply(lambda x: prodrop_check(x))"
   ]
  },
  {
   "cell_type": "code",
   "execution_count": 254,
   "id": "221a4106",
   "metadata": {},
   "outputs": [
    {
     "data": {
      "text/html": [
       "<div>\n",
       "<style scoped>\n",
       "    .dataframe tbody tr th:only-of-type {\n",
       "        vertical-align: middle;\n",
       "    }\n",
       "\n",
       "    .dataframe tbody tr th {\n",
       "        vertical-align: top;\n",
       "    }\n",
       "\n",
       "    .dataframe thead th {\n",
       "        text-align: right;\n",
       "    }\n",
       "</style>\n",
       "<table border=\"1\" class=\"dataframe\">\n",
       "  <thead>\n",
       "    <tr style=\"text-align: right;\">\n",
       "      <th></th>\n",
       "      <th>sentence</th>\n",
       "      <th>class</th>\n",
       "      <th>conllu</th>\n",
       "      <th>att_verb</th>\n",
       "    </tr>\n",
       "  </thead>\n",
       "  <tbody>\n",
       "    <tr>\n",
       "      <th>0</th>\n",
       "      <td>Борис сказал, что придёт.</td>\n",
       "      <td>coreference resolution</td>\n",
       "      <td>[[{'id': 1, 'form': 'Борис', 'lemma': 'Борис',...</td>\n",
       "      <td>coreference resolution</td>\n",
       "    </tr>\n",
       "    <tr>\n",
       "      <th>1</th>\n",
       "      <td>Борис сказал, что он придёт.</td>\n",
       "      <td>TRUE</td>\n",
       "      <td>[[{'id': 1, 'form': 'Борис', 'lemma': 'Борис',...</td>\n",
       "      <td>TRUE</td>\n",
       "    </tr>\n",
       "    <tr>\n",
       "      <th>2</th>\n",
       "      <td>Борис говорил, что это он сделал</td>\n",
       "      <td>TRUE</td>\n",
       "      <td>[[{'id': 1, 'form': 'Борис', 'lemma': 'Борис',...</td>\n",
       "      <td>TRUE</td>\n",
       "    </tr>\n",
       "    <tr>\n",
       "      <th>3</th>\n",
       "      <td>Борис объявил, что он готов</td>\n",
       "      <td>TRUE</td>\n",
       "      <td>[[{'id': 1, 'form': 'Борис', 'lemma': 'Борис',...</td>\n",
       "      <td>TRUE</td>\n",
       "    </tr>\n",
       "    <tr>\n",
       "      <th>4</th>\n",
       "      <td>Борис объявил, что готов</td>\n",
       "      <td>coreference resolution</td>\n",
       "      <td>[[{'id': 1, 'form': 'Борис', 'lemma': 'Борис',...</td>\n",
       "      <td>FALSE</td>\n",
       "    </tr>\n",
       "    <tr>\n",
       "      <th>...</th>\n",
       "      <td>...</td>\n",
       "      <td>...</td>\n",
       "      <td>...</td>\n",
       "      <td>...</td>\n",
       "    </tr>\n",
       "    <tr>\n",
       "      <th>176</th>\n",
       "      <td>Лена пообещала, что мне покажет свой дом завтра.</td>\n",
       "      <td>FALSE</td>\n",
       "      <td>[[{'id': 1, 'form': 'Лена', 'lemma': 'Лена', '...</td>\n",
       "      <td>TRUE</td>\n",
       "    </tr>\n",
       "    <tr>\n",
       "      <th>177</th>\n",
       "      <td>Лена сказала, что к празднику она хочет пригот...</td>\n",
       "      <td>TRUE</td>\n",
       "      <td>[[{'id': 1, 'form': 'Лена', 'lemma': 'Лена', '...</td>\n",
       "      <td>TRUE</td>\n",
       "    </tr>\n",
       "    <tr>\n",
       "      <th>178</th>\n",
       "      <td>Лена сказала, что к празднику хочет приготовит...</td>\n",
       "      <td>TRUE</td>\n",
       "      <td>[[{'id': 1, 'form': 'Лена', 'lemma': 'Лена', '...</td>\n",
       "      <td>FALSE</td>\n",
       "    </tr>\n",
       "    <tr>\n",
       "      <th>179</th>\n",
       "      <td>Я всех предупредил, что по выходным я работаю ...</td>\n",
       "      <td>TRUE</td>\n",
       "      <td>[[{'id': 1, 'form': 'Я', 'lemma': 'я', 'upos':...</td>\n",
       "      <td>TRUE</td>\n",
       "    </tr>\n",
       "    <tr>\n",
       "      <th>180</th>\n",
       "      <td>Я всех предупредил, что по выходным работаю на...</td>\n",
       "      <td>TRUE</td>\n",
       "      <td>[[{'id': 1, 'form': 'Я', 'lemma': 'я', 'upos':...</td>\n",
       "      <td>FALSE</td>\n",
       "    </tr>\n",
       "  </tbody>\n",
       "</table>\n",
       "<p>181 rows × 4 columns</p>\n",
       "</div>"
      ],
      "text/plain": [
       "                                              sentence  \\\n",
       "0                            Борис сказал, что придёт.   \n",
       "1                         Борис сказал, что он придёт.   \n",
       "2                     Борис говорил, что это он сделал   \n",
       "3                          Борис объявил, что он готов   \n",
       "4                             Борис объявил, что готов   \n",
       "..                                                 ...   \n",
       "176   Лена пообещала, что мне покажет свой дом завтра.   \n",
       "177  Лена сказала, что к празднику она хочет пригот...   \n",
       "178  Лена сказала, что к празднику хочет приготовит...   \n",
       "179  Я всех предупредил, что по выходным я работаю ...   \n",
       "180  Я всех предупредил, что по выходным работаю на...   \n",
       "\n",
       "                      class  \\\n",
       "0    coreference resolution   \n",
       "1                      TRUE   \n",
       "2                      TRUE   \n",
       "3                      TRUE   \n",
       "4    coreference resolution   \n",
       "..                      ...   \n",
       "176                   FALSE   \n",
       "177                    TRUE   \n",
       "178                    TRUE   \n",
       "179                    TRUE   \n",
       "180                    TRUE   \n",
       "\n",
       "                                                conllu                att_verb  \n",
       "0    [[{'id': 1, 'form': 'Борис', 'lemma': 'Борис',...  coreference resolution  \n",
       "1    [[{'id': 1, 'form': 'Борис', 'lemma': 'Борис',...                    TRUE  \n",
       "2    [[{'id': 1, 'form': 'Борис', 'lemma': 'Борис',...                    TRUE  \n",
       "3    [[{'id': 1, 'form': 'Борис', 'lemma': 'Борис',...                    TRUE  \n",
       "4    [[{'id': 1, 'form': 'Борис', 'lemma': 'Борис',...                   FALSE  \n",
       "..                                                 ...                     ...  \n",
       "176  [[{'id': 1, 'form': 'Лена', 'lemma': 'Лена', '...                    TRUE  \n",
       "177  [[{'id': 1, 'form': 'Лена', 'lemma': 'Лена', '...                    TRUE  \n",
       "178  [[{'id': 1, 'form': 'Лена', 'lemma': 'Лена', '...                   FALSE  \n",
       "179  [[{'id': 1, 'form': 'Я', 'lemma': 'я', 'upos':...                    TRUE  \n",
       "180  [[{'id': 1, 'form': 'Я', 'lemma': 'я', 'upos':...                   FALSE  \n",
       "\n",
       "[181 rows x 4 columns]"
      ]
     },
     "execution_count": 254,
     "metadata": {},
     "output_type": "execute_result"
    }
   ],
   "source": [
    "df"
   ]
  },
  {
   "cell_type": "code",
   "execution_count": null,
   "id": "4c8ccc65",
   "metadata": {},
   "outputs": [],
   "source": []
  }
 ],
 "metadata": {
  "kernelspec": {
   "display_name": "mkilina.github.io",
   "language": "python",
   "name": "mkilina.github.io"
  },
  "language_info": {
   "codemirror_mode": {
    "name": "ipython",
    "version": 3
   },
   "file_extension": ".py",
   "mimetype": "text/x-python",
   "name": "python",
   "nbconvert_exporter": "python",
   "pygments_lexer": "ipython3",
   "version": "3.8.5"
  }
 },
 "nbformat": 4,
 "nbformat_minor": 5
}
