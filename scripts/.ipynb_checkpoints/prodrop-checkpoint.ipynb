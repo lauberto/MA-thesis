{
 "cells": [
  {
   "cell_type": "markdown",
   "id": "7a1d1065-f33f-462b-b357-216ec2f39f53",
   "metadata": {},
   "source": [
    "Text preprocessing"
   ]
  },
  {
   "cell_type": "code",
   "execution_count": 1,
   "id": "983a9232",
   "metadata": {},
   "outputs": [],
   "source": [
    "import os, re\n",
    "import pandas as pd\n",
    "import ufal.udpipe\n",
    "import conllu\n",
    "\n",
    "import my_parsers\n",
    "import classifier_preprocessing\n",
    "from voters import decision"
   ]
  },
  {
   "cell_type": "code",
   "execution_count": 2,
   "id": "f59d9c67-05bb-42f9-80f6-2ace5c031d9d",
   "metadata": {},
   "outputs": [],
   "source": [
    "DATA = os.path.join(os.getcwd(), 'Gold_standard_for_validation.txt')"
   ]
  },
  {
   "cell_type": "code",
   "execution_count": 3,
   "id": "9249c0fb-b80c-4157-ae3c-67231c427e34",
   "metadata": {},
   "outputs": [],
   "source": [
    "with open(DATA, mode='r', encoding='utf-16') as data:\n",
    "    corpus = data.read()"
   ]
  },
  {
   "cell_type": "code",
   "execution_count": 4,
   "id": "0b89f8a9",
   "metadata": {},
   "outputs": [],
   "source": [
    "with open(DATA, mode='r', encoding='utf-16') as data:\n",
    "    df = pd.read_csv(data, sep='\\t', header=None, names=['sentence', 'class'])"
   ]
  },
  {
   "cell_type": "code",
   "execution_count": 5,
   "id": "88e6f613",
   "metadata": {},
   "outputs": [],
   "source": [
    "# df = df.drop(['nan'], axis=1).drop([181])"
   ]
  },
  {
   "cell_type": "code",
   "execution_count": 6,
   "id": "431c3b5f",
   "metadata": {},
   "outputs": [
    {
     "data": {
      "text/html": [
       "<div>\n",
       "<style scoped>\n",
       "    .dataframe tbody tr th:only-of-type {\n",
       "        vertical-align: middle;\n",
       "    }\n",
       "\n",
       "    .dataframe tbody tr th {\n",
       "        vertical-align: top;\n",
       "    }\n",
       "\n",
       "    .dataframe thead th {\n",
       "        text-align: right;\n",
       "    }\n",
       "</style>\n",
       "<table border=\"1\" class=\"dataframe\">\n",
       "  <thead>\n",
       "    <tr style=\"text-align: right;\">\n",
       "      <th></th>\n",
       "      <th>sentence</th>\n",
       "      <th>class</th>\n",
       "    </tr>\n",
       "  </thead>\n",
       "  <tbody>\n",
       "    <tr>\n",
       "      <th>0</th>\n",
       "      <td>Борис сказал, что придёт.</td>\n",
       "      <td>coreference resolution</td>\n",
       "    </tr>\n",
       "    <tr>\n",
       "      <th>1</th>\n",
       "      <td>Борис взял и начал читать</td>\n",
       "      <td>TRUE</td>\n",
       "    </tr>\n",
       "    <tr>\n",
       "      <th>2</th>\n",
       "      <td>Борис взял и он начал читать</td>\n",
       "      <td>FALSE</td>\n",
       "    </tr>\n",
       "    <tr>\n",
       "      <th>3</th>\n",
       "      <td>Борис встал и вышел</td>\n",
       "      <td>TRUE</td>\n",
       "    </tr>\n",
       "    <tr>\n",
       "      <th>4</th>\n",
       "      <td>Борис встал и он вышел</td>\n",
       "      <td>TRUE</td>\n",
       "    </tr>\n",
       "    <tr>\n",
       "      <th>...</th>\n",
       "      <td>...</td>\n",
       "      <td>...</td>\n",
       "    </tr>\n",
       "    <tr>\n",
       "      <th>176</th>\n",
       "      <td>Я скоро увижу Лену и я искренно надеюсь, что о...</td>\n",
       "      <td>TRUE</td>\n",
       "    </tr>\n",
       "    <tr>\n",
       "      <th>177</th>\n",
       "      <td>Я только что видел Лену. Она сказала, что наш ...</td>\n",
       "      <td>TRUE</td>\n",
       "    </tr>\n",
       "    <tr>\n",
       "      <th>178</th>\n",
       "      <td>Я только что видел Лену. Сказала, что наш дом ...</td>\n",
       "      <td>FALSE</td>\n",
       "    </tr>\n",
       "    <tr>\n",
       "      <th>179</th>\n",
       "      <td>Я только что встретил Лену. Cказала, что их от...</td>\n",
       "      <td>FALSE</td>\n",
       "    </tr>\n",
       "    <tr>\n",
       "      <th>180</th>\n",
       "      <td>Я только что встретил Лену. Она сказала, что и...</td>\n",
       "      <td>TRUE</td>\n",
       "    </tr>\n",
       "  </tbody>\n",
       "</table>\n",
       "<p>181 rows × 2 columns</p>\n",
       "</div>"
      ],
      "text/plain": [
       "                                              sentence                   class\n",
       "0                            Борис сказал, что придёт.  coreference resolution\n",
       "1                            Борис взял и начал читать                    TRUE\n",
       "2                         Борис взял и он начал читать                   FALSE\n",
       "3                                  Борис встал и вышел                    TRUE\n",
       "4                               Борис встал и он вышел                    TRUE\n",
       "..                                                 ...                     ...\n",
       "176  Я скоро увижу Лену и я искренно надеюсь, что о...                    TRUE\n",
       "177  Я только что видел Лену. Она сказала, что наш ...                    TRUE\n",
       "178  Я только что видел Лену. Сказала, что наш дом ...                   FALSE\n",
       "179  Я только что встретил Лену. Cказала, что их от...                   FALSE\n",
       "180  Я только что встретил Лену. Она сказала, что и...                    TRUE\n",
       "\n",
       "[181 rows x 2 columns]"
      ]
     },
     "execution_count": 6,
     "metadata": {},
     "output_type": "execute_result"
    }
   ],
   "source": [
    "df"
   ]
  },
  {
   "cell_type": "code",
   "execution_count": 7,
   "id": "d007487a",
   "metadata": {},
   "outputs": [],
   "source": [
    "df['sentence'] = df['sentence'].apply(lambda x: classifier_preprocessing.preprocess(x))"
   ]
  },
  {
   "cell_type": "code",
   "execution_count": 8,
   "id": "4422fd5c",
   "metadata": {},
   "outputs": [
    {
     "name": "stdout",
     "output_type": "stream",
     "text": [
      "CPU times: user 6 µs, sys: 1 µs, total: 7 µs\n",
      "Wall time: 14.3 µs\n"
     ]
    }
   ],
   "source": [
    "%%time\n",
    "# df['evaluation'] = df['sentence'].apply(lambda x: decision(x))"
   ]
  },
  {
   "cell_type": "code",
   "execution_count": 9,
   "id": "ac2db77a",
   "metadata": {},
   "outputs": [
    {
     "data": {
      "text/html": [
       "<div>\n",
       "<style scoped>\n",
       "    .dataframe tbody tr th:only-of-type {\n",
       "        vertical-align: middle;\n",
       "    }\n",
       "\n",
       "    .dataframe tbody tr th {\n",
       "        vertical-align: top;\n",
       "    }\n",
       "\n",
       "    .dataframe thead th {\n",
       "        text-align: right;\n",
       "    }\n",
       "</style>\n",
       "<table border=\"1\" class=\"dataframe\">\n",
       "  <thead>\n",
       "    <tr style=\"text-align: right;\">\n",
       "      <th></th>\n",
       "      <th>sentence</th>\n",
       "      <th>class</th>\n",
       "    </tr>\n",
       "  </thead>\n",
       "  <tbody>\n",
       "    <tr>\n",
       "      <th>0</th>\n",
       "      <td>Борис сказал, что придёт.</td>\n",
       "      <td>coreference resolution</td>\n",
       "    </tr>\n",
       "    <tr>\n",
       "      <th>1</th>\n",
       "      <td>Борис взял и начал читать.</td>\n",
       "      <td>TRUE</td>\n",
       "    </tr>\n",
       "    <tr>\n",
       "      <th>2</th>\n",
       "      <td>Борис взял и он начал читать.</td>\n",
       "      <td>FALSE</td>\n",
       "    </tr>\n",
       "    <tr>\n",
       "      <th>3</th>\n",
       "      <td>Борис встал и вышел.</td>\n",
       "      <td>TRUE</td>\n",
       "    </tr>\n",
       "    <tr>\n",
       "      <th>4</th>\n",
       "      <td>Борис встал и он вышел.</td>\n",
       "      <td>TRUE</td>\n",
       "    </tr>\n",
       "    <tr>\n",
       "      <th>...</th>\n",
       "      <td>...</td>\n",
       "      <td>...</td>\n",
       "    </tr>\n",
       "    <tr>\n",
       "      <th>176</th>\n",
       "      <td>Я скоро увижу Лену и я искренно надеюсь, что о...</td>\n",
       "      <td>TRUE</td>\n",
       "    </tr>\n",
       "    <tr>\n",
       "      <th>177</th>\n",
       "      <td>Я только что видел Лену. Она сказала, что наш ...</td>\n",
       "      <td>TRUE</td>\n",
       "    </tr>\n",
       "    <tr>\n",
       "      <th>178</th>\n",
       "      <td>Я только что видел Лену. Сказала, что наш дом ...</td>\n",
       "      <td>FALSE</td>\n",
       "    </tr>\n",
       "    <tr>\n",
       "      <th>179</th>\n",
       "      <td>Я только что встретил Лену. Cказала, что их от...</td>\n",
       "      <td>FALSE</td>\n",
       "    </tr>\n",
       "    <tr>\n",
       "      <th>180</th>\n",
       "      <td>Я только что встретил Лену. Она сказала, что и...</td>\n",
       "      <td>TRUE</td>\n",
       "    </tr>\n",
       "  </tbody>\n",
       "</table>\n",
       "<p>181 rows × 2 columns</p>\n",
       "</div>"
      ],
      "text/plain": [
       "                                              sentence                   class\n",
       "0                            Борис сказал, что придёт.  coreference resolution\n",
       "1                           Борис взял и начал читать.                    TRUE\n",
       "2                        Борис взял и он начал читать.                   FALSE\n",
       "3                                 Борис встал и вышел.                    TRUE\n",
       "4                              Борис встал и он вышел.                    TRUE\n",
       "..                                                 ...                     ...\n",
       "176  Я скоро увижу Лену и я искренно надеюсь, что о...                    TRUE\n",
       "177  Я только что видел Лену. Она сказала, что наш ...                    TRUE\n",
       "178  Я только что видел Лену. Сказала, что наш дом ...                   FALSE\n",
       "179  Я только что встретил Лену. Cказала, что их от...                   FALSE\n",
       "180  Я только что встретил Лену. Она сказала, что и...                    TRUE\n",
       "\n",
       "[181 rows x 2 columns]"
      ]
     },
     "execution_count": 9,
     "metadata": {},
     "output_type": "execute_result"
    }
   ],
   "source": [
    "df"
   ]
  },
  {
   "cell_type": "code",
   "execution_count": 10,
   "id": "545e60ed",
   "metadata": {},
   "outputs": [
    {
     "name": "stdout",
     "output_type": "stream",
     "text": [
      "CPU times: user 12.8 ms, sys: 120 µs, total: 12.9 ms\n",
      "Wall time: 219 ms\n"
     ]
    },
    {
     "data": {
      "text/plain": [
       "'coreference resolution'"
      ]
     },
     "execution_count": 10,
     "metadata": {},
     "output_type": "execute_result"
    }
   ],
   "source": [
    "%%time\n",
    "decision('Борис сказал, что придет.')"
   ]
  },
  {
   "cell_type": "code",
   "execution_count": 11,
   "id": "c98c2cc6",
   "metadata": {},
   "outputs": [
    {
     "name": "stdout",
     "output_type": "stream",
     "text": [
      "CPU times: user 14 ms, sys: 358 µs, total: 14.3 ms\n",
      "Wall time: 210 ms\n"
     ]
    },
    {
     "data": {
      "text/plain": [
       "'TRUE'"
      ]
     },
     "execution_count": 11,
     "metadata": {},
     "output_type": "execute_result"
    }
   ],
   "source": [
    "%%time\n",
    "decision('Борис сказал, что он придет.')"
   ]
  },
  {
   "cell_type": "code",
   "execution_count": 12,
   "id": "932a908b",
   "metadata": {},
   "outputs": [
    {
     "name": "stdout",
     "output_type": "stream",
     "text": [
      "CPU times: user 11.3 ms, sys: 0 ns, total: 11.3 ms\n",
      "Wall time: 204 ms\n"
     ]
    },
    {
     "data": {
      "text/plain": [
       "'TRUE'"
      ]
     },
     "execution_count": 12,
     "metadata": {},
     "output_type": "execute_result"
    }
   ],
   "source": [
    "%%time \n",
    "decision('Миша узнал, что нужно делать, когда он придёт домой.')"
   ]
  },
  {
   "cell_type": "code",
   "execution_count": 13,
   "id": "889e022d",
   "metadata": {},
   "outputs": [
    {
     "name": "stdout",
     "output_type": "stream",
     "text": [
      "CPU times: user 12.7 ms, sys: 2.52 ms, total: 15.3 ms\n",
      "Wall time: 180 ms\n"
     ]
    },
    {
     "data": {
      "text/plain": [
       "'coreference resolution'"
      ]
     },
     "execution_count": 13,
     "metadata": {},
     "output_type": "execute_result"
    }
   ],
   "source": [
    "%%time \n",
    "decision('Борис сказал, что богат.')"
   ]
  },
  {
   "cell_type": "code",
   "execution_count": 14,
   "id": "fe0da9ed",
   "metadata": {},
   "outputs": [
    {
     "name": "stdout",
     "output_type": "stream",
     "text": [
      "CPU times: user 9.19 ms, sys: 0 ns, total: 9.19 ms\n",
      "Wall time: 193 ms\n"
     ]
    },
    {
     "data": {
      "text/plain": [
       "'TRUE'"
      ]
     },
     "execution_count": 14,
     "metadata": {},
     "output_type": "execute_result"
    }
   ],
   "source": [
    "%%time\n",
    "decision(\"Борис сказал, он зайдет.\")"
   ]
  },
  {
   "cell_type": "code",
   "execution_count": 15,
   "id": "14f63e90",
   "metadata": {},
   "outputs": [
    {
     "name": "stdout",
     "output_type": "stream",
     "text": [
      "CPU times: user 10.8 ms, sys: 546 µs, total: 11.3 ms\n",
      "Wall time: 357 ms\n"
     ]
    },
    {
     "data": {
      "text/plain": [
       "'TRUE'"
      ]
     },
     "execution_count": 15,
     "metadata": {},
     "output_type": "execute_result"
    }
   ],
   "source": [
    "%%time \n",
    "decision(\"Он сел рядом со мной на дивание недалеко от камина и после долгого молчания, во время которого я стала чувствовать себя всё более неуютно, он начал говорить.\")"
   ]
  },
  {
   "cell_type": "code",
   "execution_count": 16,
   "id": "908f35bc",
   "metadata": {},
   "outputs": [
    {
     "name": "stdout",
     "output_type": "stream",
     "text": [
      "CPU times: user 6.65 ms, sys: 2.12 ms, total: 8.76 ms\n",
      "Wall time: 181 ms\n"
     ]
    },
    {
     "data": {
      "text/plain": [
       "'FALSE'"
      ]
     },
     "execution_count": 16,
     "metadata": {},
     "output_type": "execute_result"
    }
   ],
   "source": [
    "%%time \n",
    "decision(\"Он встал и он вышел\")"
   ]
  },
  {
   "cell_type": "code",
   "execution_count": 17,
   "id": "0fade2d8",
   "metadata": {},
   "outputs": [
    {
     "data": {
      "text/plain": [
       "'TRUE'"
      ]
     },
     "execution_count": 17,
     "metadata": {},
     "output_type": "execute_result"
    }
   ],
   "source": [
    "decision(\"Дима распорядился, чтобы было объявлено, что он покинул страну.\")"
   ]
  },
  {
   "cell_type": "code",
   "execution_count": 18,
   "id": "9d105d69",
   "metadata": {},
   "outputs": [
    {
     "data": {
      "text/plain": [
       "'FALSE'"
      ]
     },
     "execution_count": 18,
     "metadata": {},
     "output_type": "execute_result"
    }
   ],
   "source": [
    "decision(\"Лина хочет, чтобы выиграла\")"
   ]
  },
  {
   "cell_type": "code",
   "execution_count": 19,
   "id": "a9c3f0c1",
   "metadata": {},
   "outputs": [
    {
     "data": {
      "text/plain": [
       "'TRUE'"
      ]
     },
     "execution_count": 19,
     "metadata": {},
     "output_type": "execute_result"
    }
   ],
   "source": [
    "decision(\"Дима сказал маме Кирилла, чтобы она приходила поскорее.\")"
   ]
  },
  {
   "cell_type": "code",
   "execution_count": 20,
   "id": "61389fcf",
   "metadata": {},
   "outputs": [
    {
     "data": {
      "text/plain": [
       "'coreference resolution'"
      ]
     },
     "execution_count": 20,
     "metadata": {},
     "output_type": "execute_result"
    }
   ],
   "source": [
    "decision(\"Дима сказал маме Кирилла, чтобы приходила поскорее.\")"
   ]
  },
  {
   "cell_type": "code",
   "execution_count": 21,
   "id": "4e8c805a",
   "metadata": {},
   "outputs": [
    {
     "data": {
      "text/plain": [
       "'TRUE'"
      ]
     },
     "execution_count": 21,
     "metadata": {},
     "output_type": "execute_result"
    }
   ],
   "source": [
    "decision(\"Дима сказал маме Кирилла, чтобы она приходила поскорее\")"
   ]
  },
  {
   "cell_type": "markdown",
   "id": "b781afe5",
   "metadata": {},
   "source": [
    "## Classifier"
   ]
  },
  {
   "cell_type": "code",
   "execution_count": 22,
   "id": "3b4f3eb8",
   "metadata": {},
   "outputs": [],
   "source": [
    "import numpy as np"
   ]
  },
  {
   "cell_type": "code",
   "execution_count": 23,
   "id": "9a0dcbd5",
   "metadata": {},
   "outputs": [],
   "source": [
    "with open(DATA, mode='r', encoding='utf-16') as data:\n",
    "    df_clas = pd.read_csv(data, sep='\\t', header=None, names=['sentence', 'class'])"
   ]
  },
  {
   "cell_type": "code",
   "execution_count": 24,
   "id": "a80b9b8d",
   "metadata": {},
   "outputs": [],
   "source": [
    "df_clas['sentence'] = df_clas['sentence'].apply(lambda x: classifier_preprocessing.preprocess(x))"
   ]
  },
  {
   "cell_type": "code",
   "execution_count": 25,
   "id": "1289e1f5",
   "metadata": {},
   "outputs": [],
   "source": [
    "df_clas['class'] = df_clas['class'].apply(lambda x: classifier_preprocessing.class2id(x))"
   ]
  },
  {
   "cell_type": "code",
   "execution_count": 26,
   "id": "0ff089bf",
   "metadata": {},
   "outputs": [
    {
     "data": {
      "text/html": [
       "<div>\n",
       "<style scoped>\n",
       "    .dataframe tbody tr th:only-of-type {\n",
       "        vertical-align: middle;\n",
       "    }\n",
       "\n",
       "    .dataframe tbody tr th {\n",
       "        vertical-align: top;\n",
       "    }\n",
       "\n",
       "    .dataframe thead th {\n",
       "        text-align: right;\n",
       "    }\n",
       "</style>\n",
       "<table border=\"1\" class=\"dataframe\">\n",
       "  <thead>\n",
       "    <tr style=\"text-align: right;\">\n",
       "      <th></th>\n",
       "      <th>sentence</th>\n",
       "      <th>class</th>\n",
       "    </tr>\n",
       "  </thead>\n",
       "  <tbody>\n",
       "    <tr>\n",
       "      <th>0</th>\n",
       "      <td>Борис сказал, что придёт.</td>\n",
       "      <td>2</td>\n",
       "    </tr>\n",
       "    <tr>\n",
       "      <th>1</th>\n",
       "      <td>Борис взял и начал читать.</td>\n",
       "      <td>1</td>\n",
       "    </tr>\n",
       "    <tr>\n",
       "      <th>2</th>\n",
       "      <td>Борис взял и он начал читать.</td>\n",
       "      <td>0</td>\n",
       "    </tr>\n",
       "    <tr>\n",
       "      <th>3</th>\n",
       "      <td>Борис встал и вышел.</td>\n",
       "      <td>1</td>\n",
       "    </tr>\n",
       "    <tr>\n",
       "      <th>4</th>\n",
       "      <td>Борис встал и он вышел.</td>\n",
       "      <td>1</td>\n",
       "    </tr>\n",
       "    <tr>\n",
       "      <th>...</th>\n",
       "      <td>...</td>\n",
       "      <td>...</td>\n",
       "    </tr>\n",
       "    <tr>\n",
       "      <th>176</th>\n",
       "      <td>Я скоро увижу Лену и я искренно надеюсь, что о...</td>\n",
       "      <td>1</td>\n",
       "    </tr>\n",
       "    <tr>\n",
       "      <th>177</th>\n",
       "      <td>Я только что видел Лену. Она сказала, что наш ...</td>\n",
       "      <td>1</td>\n",
       "    </tr>\n",
       "    <tr>\n",
       "      <th>178</th>\n",
       "      <td>Я только что видел Лену. Сказала, что наш дом ...</td>\n",
       "      <td>0</td>\n",
       "    </tr>\n",
       "    <tr>\n",
       "      <th>179</th>\n",
       "      <td>Я только что встретил Лену. Cказала, что их от...</td>\n",
       "      <td>0</td>\n",
       "    </tr>\n",
       "    <tr>\n",
       "      <th>180</th>\n",
       "      <td>Я только что встретил Лену. Она сказала, что и...</td>\n",
       "      <td>1</td>\n",
       "    </tr>\n",
       "  </tbody>\n",
       "</table>\n",
       "<p>181 rows × 2 columns</p>\n",
       "</div>"
      ],
      "text/plain": [
       "                                              sentence  class\n",
       "0                            Борис сказал, что придёт.      2\n",
       "1                           Борис взял и начал читать.      1\n",
       "2                        Борис взял и он начал читать.      0\n",
       "3                                 Борис встал и вышел.      1\n",
       "4                              Борис встал и он вышел.      1\n",
       "..                                                 ...    ...\n",
       "176  Я скоро увижу Лену и я искренно надеюсь, что о...      1\n",
       "177  Я только что видел Лену. Она сказала, что наш ...      1\n",
       "178  Я только что видел Лену. Сказала, что наш дом ...      0\n",
       "179  Я только что встретил Лену. Cказала, что их от...      0\n",
       "180  Я только что встретил Лену. Она сказала, что и...      1\n",
       "\n",
       "[181 rows x 2 columns]"
      ]
     },
     "execution_count": 26,
     "metadata": {},
     "output_type": "execute_result"
    }
   ],
   "source": [
    "df_clas"
   ]
  },
  {
   "cell_type": "code",
   "execution_count": 27,
   "id": "986d4d8a",
   "metadata": {},
   "outputs": [],
   "source": [
    "import my_parsers"
   ]
  },
  {
   "cell_type": "code",
   "execution_count": 28,
   "id": "cd123f2e",
   "metadata": {},
   "outputs": [
    {
     "name": "stdout",
     "output_type": "stream",
     "text": [
      "CPU times: user 900 ms, sys: 69.9 ms, total: 970 ms\n",
      "Wall time: 34.1 s\n"
     ]
    }
   ],
   "source": [
    "%%time\n",
    "df_clas['conll'] = df_clas['sentence'].apply(lambda x: my_parsers.udpipe_req(x))"
   ]
  },
  {
   "cell_type": "code",
   "execution_count": 29,
   "id": "37db71b5",
   "metadata": {},
   "outputs": [],
   "source": [
    "df_clas['cconj'] = df_clas['conll'].apply(lambda x: classifier_preprocessing.count_conj(x, 'CCONJ'))"
   ]
  },
  {
   "cell_type": "code",
   "execution_count": 30,
   "id": "a4491b6b",
   "metadata": {},
   "outputs": [],
   "source": [
    "df_clas['sconj'] = df_clas['conll'].apply(lambda x: classifier_preprocessing.count_conj(x, 'SCONJ'))"
   ]
  },
  {
   "cell_type": "code",
   "execution_count": 31,
   "id": "756c5050",
   "metadata": {},
   "outputs": [],
   "source": [
    "df_clas['tokens'] = df_clas['conll'].apply(lambda x: classifier_preprocessing.count_tokens(x))"
   ]
  },
  {
   "cell_type": "code",
   "execution_count": 32,
   "id": "496f5753",
   "metadata": {},
   "outputs": [],
   "source": [
    "df_clas['nullp'] = df_clas['conll'].apply(lambda x: classifier_preprocessing.count_null_pron(x))"
   ]
  },
  {
   "cell_type": "code",
   "execution_count": 33,
   "id": "90df612e",
   "metadata": {},
   "outputs": [],
   "source": [
    "df_clas['overtp'] = df_clas['conll'].apply(lambda x: classifier_preprocessing.count_overt_pron(x))"
   ]
  },
  {
   "cell_type": "code",
   "execution_count": 34,
   "id": "fe7be653",
   "metadata": {},
   "outputs": [],
   "source": [
    "df_clas['adj'] = df_clas['conll'].apply(lambda x: classifier_preprocessing.count_adjuncts(x))"
   ]
  },
  {
   "cell_type": "code",
   "execution_count": 35,
   "id": "7b6ba6d7",
   "metadata": {},
   "outputs": [],
   "source": [
    "df_clas['whq'] = df_clas['conll'].apply(lambda x: classifier_preprocessing.count_whquestions(x))"
   ]
  },
  {
   "cell_type": "code",
   "execution_count": 36,
   "id": "522b5001",
   "metadata": {},
   "outputs": [],
   "source": [
    "df_clas['relc'] = df_clas['conll'].apply(lambda x: classifier_preprocessing.count_relclauses(x))"
   ]
  },
  {
   "cell_type": "code",
   "execution_count": 37,
   "id": "0790bb45",
   "metadata": {},
   "outputs": [],
   "source": [
    "df_clas['datdep'] = df_clas['conll'].apply(lambda x: classifier_preprocessing.count_case_nodes(x, 'Dat'))"
   ]
  },
  {
   "cell_type": "code",
   "execution_count": 38,
   "id": "ff54de87",
   "metadata": {},
   "outputs": [],
   "source": [
    "df_clas['nomdep'] = df_clas['conll'].apply(lambda x: classifier_preprocessing.count_case_nodes(x, 'Nom'))"
   ]
  },
  {
   "cell_type": "code",
   "execution_count": 39,
   "id": "a4670125",
   "metadata": {},
   "outputs": [],
   "source": [
    "df_clas['rootlen'] = df_clas['conll'].apply(lambda x: classifier_preprocessing.get_root_length(x))"
   ]
  },
  {
   "cell_type": "code",
   "execution_count": 48,
   "id": "319605c4",
   "metadata": {},
   "outputs": [],
   "source": [
    "df_clas['rootdeps'] = df_clas['conll'].apply(lambda x: classifier_preprocessing.count_root_dependents(x))"
   ]
  },
  {
   "cell_type": "code",
   "execution_count": 41,
   "id": "6d38349b",
   "metadata": {},
   "outputs": [],
   "source": [
    "df_clas['rootpos'] = df_clas['conll'].apply(lambda x: classifier_preprocessing.get_root_pos(x))"
   ]
  },
  {
   "cell_type": "code",
   "execution_count": 42,
   "id": "d00dd4fc",
   "metadata": {},
   "outputs": [],
   "source": [
    "df_clas['rootmatch'] = df_clas['conll'].apply(lambda x: classifier_preprocessing.is_there_exact_string_match(x))"
   ]
  },
  {
   "cell_type": "code",
   "execution_count": 43,
   "id": "3f39df4a",
   "metadata": {
    "tags": []
   },
   "outputs": [],
   "source": [
    "df_clas['rootdatdep'] = df_clas['conll'].apply(lambda x: classifier_preprocessing.count_root_case_dep(x, 'Dat'))"
   ]
  },
  {
   "cell_type": "code",
   "execution_count": 44,
   "id": "edccbe8a",
   "metadata": {},
   "outputs": [],
   "source": [
    "df_clas['rootnomdep'] = df_clas['conll'].apply(lambda x: classifier_preprocessing.count_root_case_dep(x, 'Nom'))"
   ]
  },
  {
   "cell_type": "code",
   "execution_count": 45,
   "id": "58880041",
   "metadata": {},
   "outputs": [],
   "source": [
    "df_clas['att'] = df_clas['conll'].apply(lambda x: classifier_preprocessing.is_there_att_verb(x))"
   ]
  },
  {
   "cell_type": "code",
   "execution_count": 49,
   "id": "19cff90e",
   "metadata": {},
   "outputs": [
    {
     "data": {
      "text/html": [
       "<div>\n",
       "<style scoped>\n",
       "    .dataframe tbody tr th:only-of-type {\n",
       "        vertical-align: middle;\n",
       "    }\n",
       "\n",
       "    .dataframe tbody tr th {\n",
       "        vertical-align: top;\n",
       "    }\n",
       "\n",
       "    .dataframe thead th {\n",
       "        text-align: right;\n",
       "    }\n",
       "</style>\n",
       "<table border=\"1\" class=\"dataframe\">\n",
       "  <thead>\n",
       "    <tr style=\"text-align: right;\">\n",
       "      <th></th>\n",
       "      <th>sentence</th>\n",
       "      <th>class</th>\n",
       "      <th>conll</th>\n",
       "      <th>cconj</th>\n",
       "      <th>sconj</th>\n",
       "      <th>tokens</th>\n",
       "      <th>nullp</th>\n",
       "      <th>overtp</th>\n",
       "      <th>adj</th>\n",
       "      <th>whq</th>\n",
       "      <th>relc</th>\n",
       "      <th>datdep</th>\n",
       "      <th>nomdep</th>\n",
       "      <th>rootlen</th>\n",
       "      <th>rootdeps</th>\n",
       "      <th>rootpos</th>\n",
       "      <th>rootmatch</th>\n",
       "      <th>rootdatdep</th>\n",
       "      <th>rootnomdep</th>\n",
       "      <th>att</th>\n",
       "    </tr>\n",
       "  </thead>\n",
       "  <tbody>\n",
       "    <tr>\n",
       "      <th>0</th>\n",
       "      <td>Борис сказал, что придёт.</td>\n",
       "      <td>2</td>\n",
       "      <td>[[{'id': 1, 'form': 'Борис', 'lemma': 'Борис',...</td>\n",
       "      <td>0</td>\n",
       "      <td>1</td>\n",
       "      <td>4</td>\n",
       "      <td>1</td>\n",
       "      <td>0</td>\n",
       "      <td>0</td>\n",
       "      <td>0</td>\n",
       "      <td>0</td>\n",
       "      <td>0</td>\n",
       "      <td>1</td>\n",
       "      <td>6</td>\n",
       "      <td>3</td>\n",
       "      <td>0</td>\n",
       "      <td>1</td>\n",
       "      <td>0</td>\n",
       "      <td>1</td>\n",
       "      <td>1</td>\n",
       "    </tr>\n",
       "    <tr>\n",
       "      <th>1</th>\n",
       "      <td>Борис взял и начал читать.</td>\n",
       "      <td>1</td>\n",
       "      <td>[[{'id': 1, 'form': 'Борис', 'lemma': 'Борис',...</td>\n",
       "      <td>1</td>\n",
       "      <td>0</td>\n",
       "      <td>5</td>\n",
       "      <td>1</td>\n",
       "      <td>0</td>\n",
       "      <td>0</td>\n",
       "      <td>0</td>\n",
       "      <td>0</td>\n",
       "      <td>0</td>\n",
       "      <td>1</td>\n",
       "      <td>4</td>\n",
       "      <td>3</td>\n",
       "      <td>0</td>\n",
       "      <td>1</td>\n",
       "      <td>0</td>\n",
       "      <td>1</td>\n",
       "      <td>0</td>\n",
       "    </tr>\n",
       "    <tr>\n",
       "      <th>2</th>\n",
       "      <td>Борис взял и он начал читать.</td>\n",
       "      <td>0</td>\n",
       "      <td>[[{'id': 1, 'form': 'Борис', 'lemma': 'Борис',...</td>\n",
       "      <td>1</td>\n",
       "      <td>0</td>\n",
       "      <td>6</td>\n",
       "      <td>0</td>\n",
       "      <td>1</td>\n",
       "      <td>0</td>\n",
       "      <td>0</td>\n",
       "      <td>0</td>\n",
       "      <td>0</td>\n",
       "      <td>2</td>\n",
       "      <td>4</td>\n",
       "      <td>3</td>\n",
       "      <td>0</td>\n",
       "      <td>1</td>\n",
       "      <td>0</td>\n",
       "      <td>1</td>\n",
       "      <td>0</td>\n",
       "    </tr>\n",
       "    <tr>\n",
       "      <th>3</th>\n",
       "      <td>Борис встал и вышел.</td>\n",
       "      <td>1</td>\n",
       "      <td>[[{'id': 1, 'form': 'Борис', 'lemma': 'Борис',...</td>\n",
       "      <td>1</td>\n",
       "      <td>0</td>\n",
       "      <td>4</td>\n",
       "      <td>1</td>\n",
       "      <td>0</td>\n",
       "      <td>0</td>\n",
       "      <td>0</td>\n",
       "      <td>0</td>\n",
       "      <td>0</td>\n",
       "      <td>1</td>\n",
       "      <td>5</td>\n",
       "      <td>3</td>\n",
       "      <td>0</td>\n",
       "      <td>1</td>\n",
       "      <td>0</td>\n",
       "      <td>1</td>\n",
       "      <td>0</td>\n",
       "    </tr>\n",
       "    <tr>\n",
       "      <th>4</th>\n",
       "      <td>Борис встал и он вышел.</td>\n",
       "      <td>1</td>\n",
       "      <td>[[{'id': 1, 'form': 'Борис', 'lemma': 'Борис',...</td>\n",
       "      <td>1</td>\n",
       "      <td>0</td>\n",
       "      <td>5</td>\n",
       "      <td>0</td>\n",
       "      <td>1</td>\n",
       "      <td>0</td>\n",
       "      <td>0</td>\n",
       "      <td>0</td>\n",
       "      <td>0</td>\n",
       "      <td>2</td>\n",
       "      <td>5</td>\n",
       "      <td>3</td>\n",
       "      <td>0</td>\n",
       "      <td>1</td>\n",
       "      <td>0</td>\n",
       "      <td>1</td>\n",
       "      <td>0</td>\n",
       "    </tr>\n",
       "  </tbody>\n",
       "</table>\n",
       "</div>"
      ],
      "text/plain": [
       "                        sentence  class  \\\n",
       "0      Борис сказал, что придёт.      2   \n",
       "1     Борис взял и начал читать.      1   \n",
       "2  Борис взял и он начал читать.      0   \n",
       "3           Борис встал и вышел.      1   \n",
       "4        Борис встал и он вышел.      1   \n",
       "\n",
       "                                               conll  cconj  sconj  tokens  \\\n",
       "0  [[{'id': 1, 'form': 'Борис', 'lemma': 'Борис',...      0      1       4   \n",
       "1  [[{'id': 1, 'form': 'Борис', 'lemma': 'Борис',...      1      0       5   \n",
       "2  [[{'id': 1, 'form': 'Борис', 'lemma': 'Борис',...      1      0       6   \n",
       "3  [[{'id': 1, 'form': 'Борис', 'lemma': 'Борис',...      1      0       4   \n",
       "4  [[{'id': 1, 'form': 'Борис', 'lemma': 'Борис',...      1      0       5   \n",
       "\n",
       "   nullp  overtp  adj  whq  relc  datdep  nomdep  rootlen  rootdeps  rootpos  \\\n",
       "0      1       0    0    0     0       0       1        6         3        0   \n",
       "1      1       0    0    0     0       0       1        4         3        0   \n",
       "2      0       1    0    0     0       0       2        4         3        0   \n",
       "3      1       0    0    0     0       0       1        5         3        0   \n",
       "4      0       1    0    0     0       0       2        5         3        0   \n",
       "\n",
       "   rootmatch  rootdatdep  rootnomdep  att  \n",
       "0          1           0           1    1  \n",
       "1          1           0           1    0  \n",
       "2          1           0           1    0  \n",
       "3          1           0           1    0  \n",
       "4          1           0           1    0  "
      ]
     },
     "execution_count": 49,
     "metadata": {},
     "output_type": "execute_result"
    }
   ],
   "source": [
    "df_clas.head()"
   ]
  },
  {
   "cell_type": "markdown",
   "id": "80a116be",
   "metadata": {},
   "source": [
    "# Data description"
   ]
  },
  {
   "cell_type": "code",
   "execution_count": 56,
   "id": "daa7b831",
   "metadata": {},
   "outputs": [],
   "source": [
    "df_clas = df_clas.drop(['conll', 'sentence'], axis=1)"
   ]
  },
  {
   "cell_type": "markdown",
   "id": "af307c39",
   "metadata": {},
   "source": [
    "Number of 'FALSE' sentences"
   ]
  },
  {
   "cell_type": "code",
   "execution_count": 153,
   "id": "77f19ebc",
   "metadata": {},
   "outputs": [
    {
     "data": {
      "text/plain": [
       "38"
      ]
     },
     "execution_count": 153,
     "metadata": {},
     "output_type": "execute_result"
    }
   ],
   "source": [
    "len(df_clas[df_clas['class'] == 0])"
   ]
  },
  {
   "cell_type": "markdown",
   "id": "28cf0909",
   "metadata": {},
   "source": [
    "Number of 'TRUE' sentences"
   ]
  },
  {
   "cell_type": "code",
   "execution_count": 154,
   "id": "9c59ef4e",
   "metadata": {},
   "outputs": [
    {
     "data": {
      "text/plain": [
       "136"
      ]
     },
     "execution_count": 154,
     "metadata": {},
     "output_type": "execute_result"
    }
   ],
   "source": [
    "len(df_clas[df_clas['class'] == 1])"
   ]
  },
  {
   "cell_type": "markdown",
   "id": "13e1ef9a",
   "metadata": {},
   "source": [
    "Number of 'coreference resolution' sentences"
   ]
  },
  {
   "cell_type": "code",
   "execution_count": 155,
   "id": "e45d1770",
   "metadata": {},
   "outputs": [
    {
     "data": {
      "text/plain": [
       "7"
      ]
     },
     "execution_count": 155,
     "metadata": {},
     "output_type": "execute_result"
    }
   ],
   "source": [
    "len(df_clas[df_clas['class'] == 2])"
   ]
  },
  {
   "cell_type": "code",
   "execution_count": 159,
   "id": "224dc70d",
   "metadata": {},
   "outputs": [],
   "source": [
    "df_clas = df_clas[df_clas['class'] != 2]"
   ]
  },
  {
   "cell_type": "code",
   "execution_count": 160,
   "id": "fde87225",
   "metadata": {},
   "outputs": [],
   "source": [
    "dataset = df_clas.to_numpy()"
   ]
  },
  {
   "cell_type": "code",
   "execution_count": 161,
   "id": "8b706b62",
   "metadata": {},
   "outputs": [],
   "source": [
    "# target, data\n",
    "target = dataset[:,0]\n",
    "data = dataset[:,1:]"
   ]
  },
  {
   "cell_type": "markdown",
   "id": "d858815d",
   "metadata": {},
   "source": [
    "# Evaluation"
   ]
  },
  {
   "cell_type": "code",
   "execution_count": 168,
   "id": "fe25f7d3",
   "metadata": {},
   "outputs": [],
   "source": [
    "from sklearn.metrics import confusion_matrix, classification_report"
   ]
  },
  {
   "cell_type": "markdown",
   "id": "81faaad1",
   "metadata": {},
   "source": [
    "### Support Vector Classification"
   ]
  },
  {
   "cell_type": "code",
   "execution_count": 190,
   "id": "1cadd2e0",
   "metadata": {},
   "outputs": [],
   "source": [
    "from sklearn.svm import SVC"
   ]
  },
  {
   "cell_type": "code",
   "execution_count": 191,
   "id": "6406e37b",
   "metadata": {},
   "outputs": [],
   "source": [
    "clf = SVC()"
   ]
  },
  {
   "cell_type": "code",
   "execution_count": 192,
   "id": "1c634b6a",
   "metadata": {},
   "outputs": [
    {
     "data": {
      "text/plain": [
       "SVC(kernel='linear')"
      ]
     },
     "execution_count": 192,
     "metadata": {},
     "output_type": "execute_result"
    }
   ],
   "source": [
    "clf.set_params(kernel='linear').fit(data, target)"
   ]
  },
  {
   "cell_type": "code",
   "execution_count": 193,
   "id": "6e38092a",
   "metadata": {},
   "outputs": [],
   "source": [
    "pred = clf.predict(data)"
   ]
  },
  {
   "cell_type": "code",
   "execution_count": 194,
   "id": "1edff0fa",
   "metadata": {},
   "outputs": [
    {
     "data": {
      "text/plain": [
       "(array([1, 0, 1, 1, 1, 1, 1, 1, 1, 1, 1, 1, 1, 1, 1, 1, 1, 1, 1, 0, 1, 0,\n",
       "        1, 1, 1, 1, 1, 1, 0, 1, 1, 1, 1, 0, 1, 1, 0, 1, 1, 1, 1, 0, 1, 1,\n",
       "        1, 1, 1, 1, 1, 1, 1, 1, 0, 1, 0, 1, 0, 0, 0, 1, 0, 0, 1, 1, 1, 1,\n",
       "        1, 1, 1, 1, 1, 0, 0, 1, 1, 1, 1, 1, 1, 0, 1, 0, 0, 1, 1, 0, 1, 1,\n",
       "        1, 1, 1, 0, 1, 1, 1, 1, 1, 1, 0, 1, 1, 1, 1, 1, 1, 1, 0, 1, 1, 1,\n",
       "        1, 1, 1, 1, 1, 1, 1, 1, 1, 1, 1, 1, 1, 0, 0, 1, 0, 1, 1, 1, 1, 1,\n",
       "        1, 0, 0, 1, 1, 1, 1, 1, 0, 1, 1, 0, 1, 1, 0, 1, 0, 0, 1, 1, 1, 1,\n",
       "        1, 1, 1, 1, 0, 1, 1, 1, 1, 1, 1, 1, 0, 1, 0, 1, 1, 0, 0, 1]),\n",
       " array([1, 1, 1, 1, 1, 1, 1, 1, 1, 1, 1, 1, 1, 1, 1, 1, 1, 1, 1, 1, 1, 1,\n",
       "        1, 1, 1, 1, 1, 1, 1, 1, 1, 1, 1, 1, 1, 1, 1, 1, 1, 1, 1, 1, 1, 1,\n",
       "        1, 1, 1, 1, 1, 1, 1, 1, 1, 1, 1, 1, 1, 1, 1, 1, 1, 1, 1, 1, 1, 1,\n",
       "        1, 1, 1, 1, 1, 1, 1, 1, 1, 1, 1, 1, 1, 1, 1, 1, 1, 1, 1, 1, 1, 1,\n",
       "        1, 1, 1, 1, 1, 1, 1, 1, 1, 1, 1, 1, 1, 1, 1, 1, 1, 1, 1, 1, 1, 1,\n",
       "        1, 1, 1, 1, 1, 1, 1, 1, 1, 1, 1, 1, 1, 1, 1, 1, 1, 1, 1, 1, 1, 1,\n",
       "        1, 1, 1, 1, 1, 1, 1, 1, 1, 1, 1, 1, 1, 1, 1, 1, 1, 1, 1, 1, 1, 1,\n",
       "        1, 1, 1, 1, 1, 1, 1, 1, 1, 1, 1, 1, 1, 1, 1, 1, 1, 1, 1, 1]))"
      ]
     },
     "execution_count": 194,
     "metadata": {},
     "output_type": "execute_result"
    }
   ],
   "source": [
    "target, pred"
   ]
  },
  {
   "cell_type": "code",
   "execution_count": 195,
   "id": "1f6ff9fe",
   "metadata": {},
   "outputs": [],
   "source": [
    "cm = confusion_matrix(target, pred, labels=[0, 1])"
   ]
  },
  {
   "cell_type": "code",
   "execution_count": 196,
   "id": "a715a512",
   "metadata": {},
   "outputs": [
    {
     "data": {
      "text/plain": [
       "(0, 38, 0, 136)"
      ]
     },
     "execution_count": 196,
     "metadata": {},
     "output_type": "execute_result"
    }
   ],
   "source": [
    "tn, fp, fn, tp = cm.ravel()\n",
    "tn, fp, fn, tp"
   ]
  },
  {
   "cell_type": "code",
   "execution_count": 197,
   "id": "4168a365",
   "metadata": {},
   "outputs": [
    {
     "name": "stdout",
     "output_type": "stream",
     "text": [
      "              precision    recall  f1-score   support\n",
      "\n",
      "           0       0.00      0.00      0.00        38\n",
      "           1       0.78      1.00      0.88       136\n",
      "\n",
      "    accuracy                           0.78       174\n",
      "   macro avg       0.39      0.50      0.44       174\n",
      "weighted avg       0.61      0.78      0.69       174\n",
      "\n"
     ]
    },
    {
     "name": "stderr",
     "output_type": "stream",
     "text": [
      "/home/lauberto/.local/lib/python3.8/site-packages/sklearn/metrics/_classification.py:1245: UndefinedMetricWarning: Precision and F-score are ill-defined and being set to 0.0 in labels with no predicted samples. Use `zero_division` parameter to control this behavior.\n",
      "  _warn_prf(average, modifier, msg_start, len(result))\n",
      "/home/lauberto/.local/lib/python3.8/site-packages/sklearn/metrics/_classification.py:1245: UndefinedMetricWarning: Precision and F-score are ill-defined and being set to 0.0 in labels with no predicted samples. Use `zero_division` parameter to control this behavior.\n",
      "  _warn_prf(average, modifier, msg_start, len(result))\n",
      "/home/lauberto/.local/lib/python3.8/site-packages/sklearn/metrics/_classification.py:1245: UndefinedMetricWarning: Precision and F-score are ill-defined and being set to 0.0 in labels with no predicted samples. Use `zero_division` parameter to control this behavior.\n",
      "  _warn_prf(average, modifier, msg_start, len(result))\n"
     ]
    }
   ],
   "source": [
    "print(classification_report(target, pred, zero_division='warn'))"
   ]
  },
  {
   "cell_type": "markdown",
   "id": "a34722e8",
   "metadata": {},
   "source": [
    "### KNearestNeighbour Classifier"
   ]
  },
  {
   "cell_type": "code",
   "execution_count": 198,
   "id": "41040917",
   "metadata": {},
   "outputs": [],
   "source": [
    "from sklearn.neighbors import KNeighborsClassifier"
   ]
  },
  {
   "cell_type": "code",
   "execution_count": 199,
   "id": "d860b044",
   "metadata": {},
   "outputs": [],
   "source": [
    "neigh = KNeighborsClassifier(n_neighbors=3)"
   ]
  },
  {
   "cell_type": "code",
   "execution_count": 200,
   "id": "39c81b8f",
   "metadata": {},
   "outputs": [
    {
     "data": {
      "text/plain": [
       "KNeighborsClassifier(n_neighbors=3)"
      ]
     },
     "execution_count": 200,
     "metadata": {},
     "output_type": "execute_result"
    }
   ],
   "source": [
    "neigh.fit(data, target)"
   ]
  },
  {
   "cell_type": "code",
   "execution_count": 201,
   "id": "b2a39445",
   "metadata": {},
   "outputs": [],
   "source": [
    "pred = neigh.predict(data)"
   ]
  },
  {
   "cell_type": "code",
   "execution_count": 202,
   "id": "222e15aa",
   "metadata": {},
   "outputs": [
    {
     "data": {
      "text/plain": [
       "array([1, 1, 1, 1, 1, 1, 1, 1, 1, 1, 1, 1, 1, 0, 1, 1, 1, 1, 1, 1, 1, 0,\n",
       "       1, 1, 1, 1, 1, 1, 0, 1, 1, 1, 1, 1, 1, 1, 1, 1, 1, 1, 1, 1, 1, 1,\n",
       "       1, 1, 1, 1, 1, 1, 1, 1, 1, 1, 1, 1, 0, 0, 0, 1, 1, 1, 1, 1, 1, 1,\n",
       "       1, 1, 1, 1, 1, 1, 1, 1, 1, 1, 1, 1, 1, 0, 0, 0, 0, 1, 1, 1, 1, 1,\n",
       "       1, 1, 1, 1, 1, 1, 1, 1, 1, 1, 0, 1, 1, 1, 1, 1, 1, 1, 1, 1, 1, 1,\n",
       "       1, 1, 1, 1, 1, 1, 1, 1, 1, 1, 1, 1, 1, 0, 1, 1, 0, 1, 1, 1, 1, 1,\n",
       "       1, 1, 1, 1, 1, 0, 1, 1, 1, 1, 1, 1, 1, 1, 0, 1, 0, 0, 1, 1, 1, 1,\n",
       "       1, 1, 1, 1, 0, 1, 1, 1, 1, 1, 1, 1, 0, 0, 1, 1, 1, 0, 0, 1])"
      ]
     },
     "execution_count": 202,
     "metadata": {},
     "output_type": "execute_result"
    }
   ],
   "source": [
    "pred"
   ]
  },
  {
   "cell_type": "code",
   "execution_count": 203,
   "id": "7478ef6b",
   "metadata": {},
   "outputs": [
    {
     "name": "stdout",
     "output_type": "stream",
     "text": [
      "              precision    recall  f1-score   support\n",
      "\n",
      "           0       0.82      0.47      0.60        38\n",
      "           1       0.87      0.97      0.92       136\n",
      "\n",
      "    accuracy                           0.86       174\n",
      "   macro avg       0.84      0.72      0.76       174\n",
      "weighted avg       0.86      0.86      0.85       174\n",
      "\n"
     ]
    }
   ],
   "source": [
    "print(classification_report(target, pred, zero_division='warn'))"
   ]
  },
  {
   "cell_type": "markdown",
   "id": "0fcf72a8",
   "metadata": {},
   "source": [
    "### Random Forest Classifier"
   ]
  },
  {
   "cell_type": "code",
   "execution_count": 204,
   "id": "b3758f0b",
   "metadata": {},
   "outputs": [],
   "source": [
    "from sklearn.ensemble import RandomForestClassifier"
   ]
  },
  {
   "cell_type": "code",
   "execution_count": 213,
   "id": "2574f570",
   "metadata": {},
   "outputs": [],
   "source": [
    "clf = RandomForestClassifier(max_depth=2, random_state=0)"
   ]
  },
  {
   "cell_type": "code",
   "execution_count": 214,
   "id": "d7a68f8e",
   "metadata": {},
   "outputs": [
    {
     "data": {
      "text/plain": [
       "RandomForestClassifier(max_depth=2, random_state=0)"
      ]
     },
     "execution_count": 214,
     "metadata": {},
     "output_type": "execute_result"
    }
   ],
   "source": [
    "clf.fit(data, target)"
   ]
  },
  {
   "cell_type": "code",
   "execution_count": 215,
   "id": "687fc9fb",
   "metadata": {},
   "outputs": [
    {
     "data": {
      "text/plain": [
       "array([1, 1, 1, 1, 1, 1, 1, 1, 1, 1, 1, 1, 1, 1, 1, 1, 1, 1, 1, 1, 1, 1,\n",
       "       1, 1, 1, 1, 1, 1, 1, 1, 1, 1, 1, 1, 1, 1, 1, 1, 1, 1, 1, 1, 1, 1,\n",
       "       1, 1, 1, 1, 1, 1, 1, 1, 1, 1, 1, 1, 1, 1, 1, 1, 0, 1, 1, 1, 1, 1,\n",
       "       1, 1, 1, 1, 1, 1, 1, 1, 1, 1, 1, 1, 1, 0, 1, 1, 1, 1, 1, 1, 1, 1,\n",
       "       1, 1, 1, 1, 1, 1, 1, 1, 1, 1, 1, 1, 1, 1, 1, 1, 1, 1, 1, 1, 1, 1,\n",
       "       1, 1, 1, 1, 1, 1, 1, 1, 1, 1, 1, 1, 1, 1, 1, 1, 1, 1, 1, 1, 1, 1,\n",
       "       1, 1, 1, 1, 1, 1, 1, 1, 1, 1, 1, 1, 1, 1, 1, 1, 1, 1, 1, 1, 1, 1,\n",
       "       1, 1, 1, 1, 1, 1, 1, 1, 1, 1, 1, 1, 1, 1, 1, 1, 1, 1, 1, 1])"
      ]
     },
     "execution_count": 215,
     "metadata": {},
     "output_type": "execute_result"
    }
   ],
   "source": [
    "pred = clf.predict(data)\n",
    "pred"
   ]
  },
  {
   "cell_type": "code",
   "execution_count": 217,
   "id": "40d53643",
   "metadata": {},
   "outputs": [
    {
     "name": "stdout",
     "output_type": "stream",
     "text": [
      "              precision    recall  f1-score   support\n",
      "\n",
      "           0       1.00      0.05      0.10        38\n",
      "           1       0.79      1.00      0.88       136\n",
      "\n",
      "    accuracy                           0.79       174\n",
      "   macro avg       0.90      0.53      0.49       174\n",
      "weighted avg       0.84      0.79      0.71       174\n",
      "\n"
     ]
    }
   ],
   "source": [
    "print(classification_report(target, pred, zero_division='warn'))"
   ]
  },
  {
   "cell_type": "code",
   "execution_count": null,
   "id": "142f4b76",
   "metadata": {},
   "outputs": [],
   "source": []
  },
  {
   "cell_type": "code",
   "execution_count": null,
   "id": "daa04dad",
   "metadata": {},
   "outputs": [],
   "source": []
  }
 ],
 "metadata": {
  "kernelspec": {
   "display_name": "mkilina.github.io",
   "language": "python",
   "name": "mkilina.github.io"
  },
  "language_info": {
   "codemirror_mode": {
    "name": "ipython",
    "version": 3
   },
   "file_extension": ".py",
   "mimetype": "text/x-python",
   "name": "python",
   "nbconvert_exporter": "python",
   "pygments_lexer": "ipython3",
   "version": "3.8.5"
  }
 },
 "nbformat": 4,
 "nbformat_minor": 5
}
