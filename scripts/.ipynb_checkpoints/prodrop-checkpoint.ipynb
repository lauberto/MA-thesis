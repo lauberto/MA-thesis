{
 "cells": [
  {
   "cell_type": "markdown",
   "id": "7a1d1065-f33f-462b-b357-216ec2f39f53",
   "metadata": {},
   "source": [
    "Text preprocessing"
   ]
  },
  {
   "cell_type": "code",
   "execution_count": 1,
   "id": "983a9232",
   "metadata": {},
   "outputs": [],
   "source": [
    "import os, re\n",
    "import pandas as pd\n",
    "import ufal.udpipe\n",
    "import conllu\n",
    "\n",
    "import my_parsers\n",
    "import classifier_preprocessing\n",
    "from voters import decision\n",
    "\n",
    "from sklearn.metrics import precision_score, recall_score, f1_score, classification_report"
   ]
  },
  {
   "cell_type": "code",
   "execution_count": 2,
   "id": "463006af",
   "metadata": {},
   "outputs": [
    {
     "name": "stdout",
     "output_type": "stream",
     "text": [
      "CPU times: user 12.6 ms, sys: 0 ns, total: 12.6 ms\n",
      "Wall time: 199 ms\n"
     ]
    },
    {
     "data": {
      "text/plain": [
       "'TRUE'"
      ]
     },
     "execution_count": 2,
     "metadata": {},
     "output_type": "execute_result"
    }
   ],
   "source": [
    "%%time\n",
    "decision('Борис взял и вышел.')"
   ]
  },
  {
   "cell_type": "code",
   "execution_count": 3,
   "id": "f59d9c67-05bb-42f9-80f6-2ace5c031d9d",
   "metadata": {},
   "outputs": [],
   "source": [
    "DATA = os.path.join(os.getcwd(), 'Gold_standard_for_validation.txt')"
   ]
  },
  {
   "cell_type": "code",
   "execution_count": 4,
   "id": "9249c0fb-b80c-4157-ae3c-67231c427e34",
   "metadata": {},
   "outputs": [],
   "source": [
    "with open(DATA, mode='r', encoding='utf-16') as data:\n",
    "    corpus = data.read()"
   ]
  },
  {
   "cell_type": "code",
   "execution_count": 5,
   "id": "0b89f8a9",
   "metadata": {},
   "outputs": [],
   "source": [
    "with open(DATA, mode='r', encoding='utf-16') as data:\n",
    "    df = pd.read_csv(data, sep='\\t', header=None, names=['sentence', 'class'])"
   ]
  },
  {
   "cell_type": "code",
   "execution_count": 6,
   "id": "88e6f613",
   "metadata": {},
   "outputs": [],
   "source": [
    "# df = df.drop(['nan'], axis=1).drop([181])"
   ]
  },
  {
   "cell_type": "code",
   "execution_count": 7,
   "id": "431c3b5f",
   "metadata": {},
   "outputs": [
    {
     "data": {
      "text/html": [
       "<div>\n",
       "<style scoped>\n",
       "    .dataframe tbody tr th:only-of-type {\n",
       "        vertical-align: middle;\n",
       "    }\n",
       "\n",
       "    .dataframe tbody tr th {\n",
       "        vertical-align: top;\n",
       "    }\n",
       "\n",
       "    .dataframe thead th {\n",
       "        text-align: right;\n",
       "    }\n",
       "</style>\n",
       "<table border=\"1\" class=\"dataframe\">\n",
       "  <thead>\n",
       "    <tr style=\"text-align: right;\">\n",
       "      <th></th>\n",
       "      <th>sentence</th>\n",
       "      <th>class</th>\n",
       "    </tr>\n",
       "  </thead>\n",
       "  <tbody>\n",
       "    <tr>\n",
       "      <th>0</th>\n",
       "      <td>Борис сказал, что придёт.</td>\n",
       "      <td>coreference resolution</td>\n",
       "    </tr>\n",
       "    <tr>\n",
       "      <th>1</th>\n",
       "      <td>Борис взял и начал читать.</td>\n",
       "      <td>TRUE</td>\n",
       "    </tr>\n",
       "    <tr>\n",
       "      <th>2</th>\n",
       "      <td>Борис взял и он начал читать.</td>\n",
       "      <td>FALSE</td>\n",
       "    </tr>\n",
       "    <tr>\n",
       "      <th>3</th>\n",
       "      <td>Борис встал и вышел.</td>\n",
       "      <td>TRUE</td>\n",
       "    </tr>\n",
       "    <tr>\n",
       "      <th>4</th>\n",
       "      <td>Борис встал и он вышел.</td>\n",
       "      <td>TRUE</td>\n",
       "    </tr>\n",
       "    <tr>\n",
       "      <th>...</th>\n",
       "      <td>...</td>\n",
       "      <td>...</td>\n",
       "    </tr>\n",
       "    <tr>\n",
       "      <th>176</th>\n",
       "      <td>Я скоро увижу Лену и я искренно надеюсь, что о...</td>\n",
       "      <td>TRUE</td>\n",
       "    </tr>\n",
       "    <tr>\n",
       "      <th>177</th>\n",
       "      <td>Я только что видел Лену.Она сказала, что наш д...</td>\n",
       "      <td>TRUE</td>\n",
       "    </tr>\n",
       "    <tr>\n",
       "      <th>178</th>\n",
       "      <td>Я только что видел Лену.Сказала, что наш дом п...</td>\n",
       "      <td>FALSE</td>\n",
       "    </tr>\n",
       "    <tr>\n",
       "      <th>179</th>\n",
       "      <td>Я только что встретил Лену.Cказала, что их отд...</td>\n",
       "      <td>FALSE</td>\n",
       "    </tr>\n",
       "    <tr>\n",
       "      <th>180</th>\n",
       "      <td>Я только что встретил Лену.Она сказала, что их...</td>\n",
       "      <td>TRUE</td>\n",
       "    </tr>\n",
       "  </tbody>\n",
       "</table>\n",
       "<p>181 rows × 2 columns</p>\n",
       "</div>"
      ],
      "text/plain": [
       "                                              sentence                   class\n",
       "0                            Борис сказал, что придёт.  coreference resolution\n",
       "1                           Борис взял и начал читать.                    TRUE\n",
       "2                        Борис взял и он начал читать.                   FALSE\n",
       "3                                 Борис встал и вышел.                    TRUE\n",
       "4                              Борис встал и он вышел.                    TRUE\n",
       "..                                                 ...                     ...\n",
       "176  Я скоро увижу Лену и я искренно надеюсь, что о...                    TRUE\n",
       "177  Я только что видел Лену.Она сказала, что наш д...                    TRUE\n",
       "178  Я только что видел Лену.Сказала, что наш дом п...                   FALSE\n",
       "179  Я только что встретил Лену.Cказала, что их отд...                   FALSE\n",
       "180  Я только что встретил Лену.Она сказала, что их...                    TRUE\n",
       "\n",
       "[181 rows x 2 columns]"
      ]
     },
     "execution_count": 7,
     "metadata": {},
     "output_type": "execute_result"
    }
   ],
   "source": [
    "df"
   ]
  },
  {
   "cell_type": "code",
   "execution_count": 8,
   "id": "d007487a",
   "metadata": {},
   "outputs": [],
   "source": [
    "df['sentence'] = df['sentence'].apply(lambda x: classifier_preprocessing.preprocess(x))"
   ]
  },
  {
   "cell_type": "code",
   "execution_count": 9,
   "id": "4422fd5c",
   "metadata": {},
   "outputs": [
    {
     "name": "stdout",
     "output_type": "stream",
     "text": [
      "CPU times: user 4.59 s, sys: 396 ms, total: 4.99 s\n",
      "Wall time: 2min 50s\n"
     ]
    }
   ],
   "source": [
    "%%time\n",
    "df['evaluation1'] = df['sentence'].apply(lambda x: decision(x))\n",
    "df['evaluation2'] = df['sentence'].apply(lambda x: decision(x))\n",
    "df['evaluation3'] = df['sentence'].apply(lambda x: decision(x))\n",
    "df['evaluation4'] = df['sentence'].apply(lambda x: decision(x))\n",
    "df['evaluation5'] = df['sentence'].apply(lambda x: decision(x))"
   ]
  },
  {
   "cell_type": "code",
   "execution_count": 10,
   "id": "7ba46f87",
   "metadata": {},
   "outputs": [
    {
     "data": {
      "text/html": [
       "<div>\n",
       "<style scoped>\n",
       "    .dataframe tbody tr th:only-of-type {\n",
       "        vertical-align: middle;\n",
       "    }\n",
       "\n",
       "    .dataframe tbody tr th {\n",
       "        vertical-align: top;\n",
       "    }\n",
       "\n",
       "    .dataframe thead th {\n",
       "        text-align: right;\n",
       "    }\n",
       "</style>\n",
       "<table border=\"1\" class=\"dataframe\">\n",
       "  <thead>\n",
       "    <tr style=\"text-align: right;\">\n",
       "      <th></th>\n",
       "      <th>sentence</th>\n",
       "      <th>class</th>\n",
       "      <th>evaluation1</th>\n",
       "      <th>evaluation2</th>\n",
       "      <th>evaluation3</th>\n",
       "      <th>evaluation4</th>\n",
       "      <th>evaluation5</th>\n",
       "    </tr>\n",
       "  </thead>\n",
       "  <tbody>\n",
       "    <tr>\n",
       "      <th>0</th>\n",
       "      <td>Борис сказал, что придёт.</td>\n",
       "      <td>coreference resolution</td>\n",
       "      <td>coreference resolution</td>\n",
       "      <td>coreference resolution</td>\n",
       "      <td>coreference resolution</td>\n",
       "      <td>coreference resolution</td>\n",
       "      <td>coreference resolution</td>\n",
       "    </tr>\n",
       "    <tr>\n",
       "      <th>1</th>\n",
       "      <td>Борис взял и начал читать.</td>\n",
       "      <td>TRUE</td>\n",
       "      <td>TRUE</td>\n",
       "      <td>TRUE</td>\n",
       "      <td>TRUE</td>\n",
       "      <td>TRUE</td>\n",
       "      <td>TRUE</td>\n",
       "    </tr>\n",
       "    <tr>\n",
       "      <th>2</th>\n",
       "      <td>Борис взял и он начал читать.</td>\n",
       "      <td>FALSE</td>\n",
       "      <td>coreference resolution</td>\n",
       "      <td>coreference resolution</td>\n",
       "      <td>coreference resolution</td>\n",
       "      <td>coreference resolution</td>\n",
       "      <td>coreference resolution</td>\n",
       "    </tr>\n",
       "    <tr>\n",
       "      <th>3</th>\n",
       "      <td>Борис встал и вышел.</td>\n",
       "      <td>TRUE</td>\n",
       "      <td>TRUE</td>\n",
       "      <td>TRUE</td>\n",
       "      <td>TRUE</td>\n",
       "      <td>TRUE</td>\n",
       "      <td>TRUE</td>\n",
       "    </tr>\n",
       "    <tr>\n",
       "      <th>4</th>\n",
       "      <td>Борис встал и он вышел.</td>\n",
       "      <td>TRUE</td>\n",
       "      <td>coreference resolution</td>\n",
       "      <td>coreference resolution</td>\n",
       "      <td>coreference resolution</td>\n",
       "      <td>coreference resolution</td>\n",
       "      <td>coreference resolution</td>\n",
       "    </tr>\n",
       "    <tr>\n",
       "      <th>...</th>\n",
       "      <td>...</td>\n",
       "      <td>...</td>\n",
       "      <td>...</td>\n",
       "      <td>...</td>\n",
       "      <td>...</td>\n",
       "      <td>...</td>\n",
       "      <td>...</td>\n",
       "    </tr>\n",
       "    <tr>\n",
       "      <th>176</th>\n",
       "      <td>Я скоро увижу Лену и я искренно надеюсь, что о...</td>\n",
       "      <td>TRUE</td>\n",
       "      <td>FALSE</td>\n",
       "      <td>FALSE</td>\n",
       "      <td>FALSE</td>\n",
       "      <td>FALSE</td>\n",
       "      <td>FALSE</td>\n",
       "    </tr>\n",
       "    <tr>\n",
       "      <th>177</th>\n",
       "      <td>Я только что видел Лену.Она сказала, что наш д...</td>\n",
       "      <td>TRUE</td>\n",
       "      <td>coreference resolution</td>\n",
       "      <td>coreference resolution</td>\n",
       "      <td>coreference resolution</td>\n",
       "      <td>coreference resolution</td>\n",
       "      <td>coreference resolution</td>\n",
       "    </tr>\n",
       "    <tr>\n",
       "      <th>178</th>\n",
       "      <td>Я только что видел Лену.Сказала, что наш дом п...</td>\n",
       "      <td>FALSE</td>\n",
       "      <td>coreference resolution</td>\n",
       "      <td>coreference resolution</td>\n",
       "      <td>coreference resolution</td>\n",
       "      <td>coreference resolution</td>\n",
       "      <td>coreference resolution</td>\n",
       "    </tr>\n",
       "    <tr>\n",
       "      <th>179</th>\n",
       "      <td>Я только что встретил Лену.Cказала, что их отд...</td>\n",
       "      <td>FALSE</td>\n",
       "      <td>coreference resolution</td>\n",
       "      <td>coreference resolution</td>\n",
       "      <td>coreference resolution</td>\n",
       "      <td>coreference resolution</td>\n",
       "      <td>coreference resolution</td>\n",
       "    </tr>\n",
       "    <tr>\n",
       "      <th>180</th>\n",
       "      <td>Я только что встретил Лену.Она сказала, что их...</td>\n",
       "      <td>TRUE</td>\n",
       "      <td>coreference resolution</td>\n",
       "      <td>coreference resolution</td>\n",
       "      <td>coreference resolution</td>\n",
       "      <td>coreference resolution</td>\n",
       "      <td>coreference resolution</td>\n",
       "    </tr>\n",
       "  </tbody>\n",
       "</table>\n",
       "<p>181 rows × 7 columns</p>\n",
       "</div>"
      ],
      "text/plain": [
       "                                              sentence  \\\n",
       "0                            Борис сказал, что придёт.   \n",
       "1                           Борис взял и начал читать.   \n",
       "2                        Борис взял и он начал читать.   \n",
       "3                                 Борис встал и вышел.   \n",
       "4                              Борис встал и он вышел.   \n",
       "..                                                 ...   \n",
       "176  Я скоро увижу Лену и я искренно надеюсь, что о...   \n",
       "177  Я только что видел Лену.Она сказала, что наш д...   \n",
       "178  Я только что видел Лену.Сказала, что наш дом п...   \n",
       "179  Я только что встретил Лену.Cказала, что их отд...   \n",
       "180  Я только что встретил Лену.Она сказала, что их...   \n",
       "\n",
       "                      class             evaluation1             evaluation2  \\\n",
       "0    coreference resolution  coreference resolution  coreference resolution   \n",
       "1                      TRUE                    TRUE                    TRUE   \n",
       "2                     FALSE  coreference resolution  coreference resolution   \n",
       "3                      TRUE                    TRUE                    TRUE   \n",
       "4                      TRUE  coreference resolution  coreference resolution   \n",
       "..                      ...                     ...                     ...   \n",
       "176                    TRUE                   FALSE                   FALSE   \n",
       "177                    TRUE  coreference resolution  coreference resolution   \n",
       "178                   FALSE  coreference resolution  coreference resolution   \n",
       "179                   FALSE  coreference resolution  coreference resolution   \n",
       "180                    TRUE  coreference resolution  coreference resolution   \n",
       "\n",
       "                evaluation3             evaluation4             evaluation5  \n",
       "0    coreference resolution  coreference resolution  coreference resolution  \n",
       "1                      TRUE                    TRUE                    TRUE  \n",
       "2    coreference resolution  coreference resolution  coreference resolution  \n",
       "3                      TRUE                    TRUE                    TRUE  \n",
       "4    coreference resolution  coreference resolution  coreference resolution  \n",
       "..                      ...                     ...                     ...  \n",
       "176                   FALSE                   FALSE                   FALSE  \n",
       "177  coreference resolution  coreference resolution  coreference resolution  \n",
       "178  coreference resolution  coreference resolution  coreference resolution  \n",
       "179  coreference resolution  coreference resolution  coreference resolution  \n",
       "180  coreference resolution  coreference resolution  coreference resolution  \n",
       "\n",
       "[181 rows x 7 columns]"
      ]
     },
     "execution_count": 10,
     "metadata": {},
     "output_type": "execute_result"
    }
   ],
   "source": [
    "df"
   ]
  },
  {
   "cell_type": "code",
   "execution_count": 11,
   "id": "9b52371f",
   "metadata": {},
   "outputs": [
    {
     "data": {
      "text/html": [
       "<div>\n",
       "<style scoped>\n",
       "    .dataframe tbody tr th:only-of-type {\n",
       "        vertical-align: middle;\n",
       "    }\n",
       "\n",
       "    .dataframe tbody tr th {\n",
       "        vertical-align: top;\n",
       "    }\n",
       "\n",
       "    .dataframe thead th {\n",
       "        text-align: right;\n",
       "    }\n",
       "</style>\n",
       "<table border=\"1\" class=\"dataframe\">\n",
       "  <thead>\n",
       "    <tr style=\"text-align: right;\">\n",
       "      <th></th>\n",
       "      <th>sentence</th>\n",
       "      <th>class</th>\n",
       "      <th>evaluation1</th>\n",
       "      <th>evaluation2</th>\n",
       "      <th>evaluation3</th>\n",
       "      <th>evaluation4</th>\n",
       "      <th>evaluation5</th>\n",
       "    </tr>\n",
       "  </thead>\n",
       "  <tbody>\n",
       "  </tbody>\n",
       "</table>\n",
       "</div>"
      ],
      "text/plain": [
       "Empty DataFrame\n",
       "Columns: [sentence, class, evaluation1, evaluation2, evaluation3, evaluation4, evaluation5]\n",
       "Index: []"
      ]
     },
     "execution_count": 11,
     "metadata": {},
     "output_type": "execute_result"
    }
   ],
   "source": [
    "df[df['evaluation1'] == 'None']"
   ]
  },
  {
   "cell_type": "code",
   "execution_count": 12,
   "id": "9c0770c9",
   "metadata": {},
   "outputs": [
    {
     "data": {
      "text/plain": [
       "'coreference resolution'"
      ]
     },
     "execution_count": 12,
     "metadata": {},
     "output_type": "execute_result"
    }
   ],
   "source": [
    "decision(\"Борис сказал, что ей холодно.\")"
   ]
  },
  {
   "cell_type": "code",
   "execution_count": 13,
   "id": "ac2db77a",
   "metadata": {},
   "outputs": [],
   "source": [
    "df['numclass'] = df['class'].apply(lambda x: classifier_preprocessing.class2id(x))\n",
    "df['numeval1'] = df['evaluation1'].apply(lambda x: int(classifier_preprocessing.class2id(x)))\n",
    "df['numeval2'] = df['evaluation2'].apply(lambda x: int(classifier_preprocessing.class2id(x)))\n",
    "df['numeval3'] = df['evaluation3'].apply(lambda x: int(classifier_preprocessing.class2id(x)))\n",
    "df['numeval4'] = df['evaluation4'].apply(lambda x: int(classifier_preprocessing.class2id(x)))\n",
    "df['numeval5'] = df['evaluation5'].apply(lambda x: int(classifier_preprocessing.class2id(x)))"
   ]
  },
  {
   "cell_type": "code",
   "execution_count": 14,
   "id": "43d2319c",
   "metadata": {},
   "outputs": [
    {
     "data": {
      "text/html": [
       "<div>\n",
       "<style scoped>\n",
       "    .dataframe tbody tr th:only-of-type {\n",
       "        vertical-align: middle;\n",
       "    }\n",
       "\n",
       "    .dataframe tbody tr th {\n",
       "        vertical-align: top;\n",
       "    }\n",
       "\n",
       "    .dataframe thead th {\n",
       "        text-align: right;\n",
       "    }\n",
       "</style>\n",
       "<table border=\"1\" class=\"dataframe\">\n",
       "  <thead>\n",
       "    <tr style=\"text-align: right;\">\n",
       "      <th></th>\n",
       "      <th>sentence</th>\n",
       "      <th>class</th>\n",
       "      <th>evaluation1</th>\n",
       "      <th>evaluation2</th>\n",
       "      <th>evaluation3</th>\n",
       "      <th>evaluation4</th>\n",
       "      <th>evaluation5</th>\n",
       "      <th>numclass</th>\n",
       "      <th>numeval1</th>\n",
       "      <th>numeval2</th>\n",
       "      <th>numeval3</th>\n",
       "      <th>numeval4</th>\n",
       "      <th>numeval5</th>\n",
       "    </tr>\n",
       "  </thead>\n",
       "  <tbody>\n",
       "    <tr>\n",
       "      <th>0</th>\n",
       "      <td>Борис сказал, что придёт.</td>\n",
       "      <td>coreference resolution</td>\n",
       "      <td>coreference resolution</td>\n",
       "      <td>coreference resolution</td>\n",
       "      <td>coreference resolution</td>\n",
       "      <td>coreference resolution</td>\n",
       "      <td>coreference resolution</td>\n",
       "      <td>2</td>\n",
       "      <td>2</td>\n",
       "      <td>2</td>\n",
       "      <td>2</td>\n",
       "      <td>2</td>\n",
       "      <td>2</td>\n",
       "    </tr>\n",
       "    <tr>\n",
       "      <th>5</th>\n",
       "      <td>Борис встретился с Леной.Говорит, что их отдел...</td>\n",
       "      <td>coreference resolution</td>\n",
       "      <td>coreference resolution</td>\n",
       "      <td>coreference resolution</td>\n",
       "      <td>coreference resolution</td>\n",
       "      <td>coreference resolution</td>\n",
       "      <td>coreference resolution</td>\n",
       "      <td>2</td>\n",
       "      <td>2</td>\n",
       "      <td>2</td>\n",
       "      <td>2</td>\n",
       "      <td>2</td>\n",
       "      <td>2</td>\n",
       "    </tr>\n",
       "    <tr>\n",
       "      <th>8</th>\n",
       "      <td>Борис объявил, что готов.</td>\n",
       "      <td>coreference resolution</td>\n",
       "      <td>coreference resolution</td>\n",
       "      <td>coreference resolution</td>\n",
       "      <td>coreference resolution</td>\n",
       "      <td>coreference resolution</td>\n",
       "      <td>coreference resolution</td>\n",
       "      <td>2</td>\n",
       "      <td>2</td>\n",
       "      <td>2</td>\n",
       "      <td>2</td>\n",
       "      <td>2</td>\n",
       "      <td>2</td>\n",
       "    </tr>\n",
       "    <tr>\n",
       "      <th>11</th>\n",
       "      <td>Борис ответил, что придет завтра.</td>\n",
       "      <td>coreference resolution</td>\n",
       "      <td>coreference resolution</td>\n",
       "      <td>coreference resolution</td>\n",
       "      <td>coreference resolution</td>\n",
       "      <td>coreference resolution</td>\n",
       "      <td>coreference resolution</td>\n",
       "      <td>2</td>\n",
       "      <td>2</td>\n",
       "      <td>2</td>\n",
       "      <td>2</td>\n",
       "      <td>2</td>\n",
       "      <td>2</td>\n",
       "    </tr>\n",
       "    <tr>\n",
       "      <th>78</th>\n",
       "      <td>Лена разговаривает с Борисом.Говорит, что отде...</td>\n",
       "      <td>coreference resolution</td>\n",
       "      <td>coreference resolution</td>\n",
       "      <td>coreference resolution</td>\n",
       "      <td>coreference resolution</td>\n",
       "      <td>coreference resolution</td>\n",
       "      <td>coreference resolution</td>\n",
       "      <td>2</td>\n",
       "      <td>2</td>\n",
       "      <td>2</td>\n",
       "      <td>2</td>\n",
       "      <td>2</td>\n",
       "      <td>2</td>\n",
       "    </tr>\n",
       "    <tr>\n",
       "      <th>160</th>\n",
       "      <td>Саша обедает с Сашей.Сказала, что отдел скоро ...</td>\n",
       "      <td>coreference resolution</td>\n",
       "      <td>coreference resolution</td>\n",
       "      <td>coreference resolution</td>\n",
       "      <td>coreference resolution</td>\n",
       "      <td>coreference resolution</td>\n",
       "      <td>coreference resolution</td>\n",
       "      <td>2</td>\n",
       "      <td>2</td>\n",
       "      <td>2</td>\n",
       "      <td>2</td>\n",
       "      <td>2</td>\n",
       "      <td>2</td>\n",
       "    </tr>\n",
       "    <tr>\n",
       "      <th>172</th>\n",
       "      <td>Я сказал ему, чтобы приходил поскорее.</td>\n",
       "      <td>coreference resolution</td>\n",
       "      <td>coreference resolution</td>\n",
       "      <td>coreference resolution</td>\n",
       "      <td>coreference resolution</td>\n",
       "      <td>coreference resolution</td>\n",
       "      <td>coreference resolution</td>\n",
       "      <td>2</td>\n",
       "      <td>2</td>\n",
       "      <td>2</td>\n",
       "      <td>2</td>\n",
       "      <td>2</td>\n",
       "      <td>2</td>\n",
       "    </tr>\n",
       "  </tbody>\n",
       "</table>\n",
       "</div>"
      ],
      "text/plain": [
       "                                              sentence  \\\n",
       "0                            Борис сказал, что придёт.   \n",
       "5    Борис встретился с Леной.Говорит, что их отдел...   \n",
       "8                            Борис объявил, что готов.   \n",
       "11                   Борис ответил, что придет завтра.   \n",
       "78   Лена разговаривает с Борисом.Говорит, что отде...   \n",
       "160  Саша обедает с Сашей.Сказала, что отдел скоро ...   \n",
       "172             Я сказал ему, чтобы приходил поскорее.   \n",
       "\n",
       "                      class             evaluation1             evaluation2  \\\n",
       "0    coreference resolution  coreference resolution  coreference resolution   \n",
       "5    coreference resolution  coreference resolution  coreference resolution   \n",
       "8    coreference resolution  coreference resolution  coreference resolution   \n",
       "11   coreference resolution  coreference resolution  coreference resolution   \n",
       "78   coreference resolution  coreference resolution  coreference resolution   \n",
       "160  coreference resolution  coreference resolution  coreference resolution   \n",
       "172  coreference resolution  coreference resolution  coreference resolution   \n",
       "\n",
       "                evaluation3             evaluation4             evaluation5  \\\n",
       "0    coreference resolution  coreference resolution  coreference resolution   \n",
       "5    coreference resolution  coreference resolution  coreference resolution   \n",
       "8    coreference resolution  coreference resolution  coreference resolution   \n",
       "11   coreference resolution  coreference resolution  coreference resolution   \n",
       "78   coreference resolution  coreference resolution  coreference resolution   \n",
       "160  coreference resolution  coreference resolution  coreference resolution   \n",
       "172  coreference resolution  coreference resolution  coreference resolution   \n",
       "\n",
       "     numclass  numeval1  numeval2  numeval3  numeval4  numeval5  \n",
       "0           2         2         2         2         2         2  \n",
       "5           2         2         2         2         2         2  \n",
       "8           2         2         2         2         2         2  \n",
       "11          2         2         2         2         2         2  \n",
       "78          2         2         2         2         2         2  \n",
       "160         2         2         2         2         2         2  \n",
       "172         2         2         2         2         2         2  "
      ]
     },
     "execution_count": 14,
     "metadata": {},
     "output_type": "execute_result"
    }
   ],
   "source": [
    "df[df['numclass'] == 2]"
   ]
  },
  {
   "cell_type": "code",
   "execution_count": 15,
   "id": "9e60f5cb",
   "metadata": {},
   "outputs": [],
   "source": [
    "hand_rule_target = df['numclass']\n",
    "pred1 = df['numeval1']\n",
    "pred2 = df['numeval2']\n",
    "pred3 = df['numeval3']\n",
    "pred4 = df['numeval4']\n",
    "pred5 = df['numeval5']\n",
    "predictions = [pred1, pred2, pred3, pred4, pred5]"
   ]
  },
  {
   "cell_type": "code",
   "execution_count": 16,
   "id": "f2783030",
   "metadata": {},
   "outputs": [],
   "source": [
    "def precision_mean(predictions: list):\n",
    "    results = list()\n",
    "    for pred in predictions:\n",
    "        results.append(precision_score(hand_rule_target, pred, average='weighted'))\n",
    "    return 'Precision mean: %.4f' % (sum(results) / len(results))"
   ]
  },
  {
   "cell_type": "code",
   "execution_count": 17,
   "id": "25f3e4d4",
   "metadata": {},
   "outputs": [],
   "source": [
    "def recall_mean(predictions: list):\n",
    "    results = list()\n",
    "    for pred in predictions:\n",
    "        results.append(recall_score(hand_rule_target, pred, average='weighted'))\n",
    "    return 'Recall mean: %.4f' % (sum(results) / len(results))"
   ]
  },
  {
   "cell_type": "code",
   "execution_count": 35,
   "id": "8a9bfb8e",
   "metadata": {},
   "outputs": [],
   "source": [
    "def f1_mean(predictions: list):\n",
    "    results = list()\n",
    "    for pred in predictions:\n",
    "        results.append(f1_score(hand_rule_target, pred, average='micro'))\n",
    "    return 'F1 mean: %.4f' % (sum(results) / len(results))   "
   ]
  },
  {
   "cell_type": "code",
   "execution_count": 32,
   "id": "26f52486",
   "metadata": {},
   "outputs": [
    {
     "data": {
      "text/plain": [
       "'Precision mean: 0.7195'"
      ]
     },
     "execution_count": 32,
     "metadata": {},
     "output_type": "execute_result"
    }
   ],
   "source": [
    "precision_mean(predictions)"
   ]
  },
  {
   "cell_type": "code",
   "execution_count": 33,
   "id": "89ed0dd9",
   "metadata": {},
   "outputs": [
    {
     "data": {
      "text/plain": [
       "'Recall mean: 0.3481'"
      ]
     },
     "execution_count": 33,
     "metadata": {},
     "output_type": "execute_result"
    }
   ],
   "source": [
    "recall_mean(predictions)"
   ]
  },
  {
   "cell_type": "code",
   "execution_count": 36,
   "id": "a50866a5",
   "metadata": {},
   "outputs": [
    {
     "data": {
      "text/plain": [
       "'F1 mean: 0.3481'"
      ]
     },
     "execution_count": 36,
     "metadata": {},
     "output_type": "execute_result"
    }
   ],
   "source": [
    "f1_mean(predictions)"
   ]
  },
  {
   "cell_type": "code",
   "execution_count": 22,
   "id": "77ba88fd",
   "metadata": {},
   "outputs": [
    {
     "name": "stdout",
     "output_type": "stream",
     "text": [
      "              precision    recall  f1-score   support\n",
      "\n",
      "           0       0.40      0.21      0.28        38\n",
      "           1       0.86      0.36      0.51       136\n",
      "           2       0.07      1.00      0.13         7\n",
      "\n",
      "    accuracy                           0.35       181\n",
      "   macro avg       0.44      0.52      0.30       181\n",
      "weighted avg       0.73      0.35      0.44       181\n",
      "\n"
     ]
    }
   ],
   "source": [
    "print(classification_report(hand_rule_target, pred1))"
   ]
  },
  {
   "cell_type": "code",
   "execution_count": 23,
   "id": "545e60ed",
   "metadata": {},
   "outputs": [
    {
     "name": "stdout",
     "output_type": "stream",
     "text": [
      "CPU times: user 6.07 ms, sys: 300 µs, total: 6.37 ms\n",
      "Wall time: 185 ms\n"
     ]
    },
    {
     "data": {
      "text/plain": [
       "'coreference resolution'"
      ]
     },
     "execution_count": 23,
     "metadata": {},
     "output_type": "execute_result"
    }
   ],
   "source": [
    "%%time\n",
    "decision('Борис сказал, что она богата.')"
   ]
  },
  {
   "cell_type": "code",
   "execution_count": 24,
   "id": "c98c2cc6",
   "metadata": {},
   "outputs": [
    {
     "name": "stdout",
     "output_type": "stream",
     "text": [
      "CPU times: user 6.54 ms, sys: 0 ns, total: 6.54 ms\n",
      "Wall time: 171 ms\n"
     ]
    },
    {
     "data": {
      "text/plain": [
       "'coreference resolution'"
      ]
     },
     "execution_count": 24,
     "metadata": {},
     "output_type": "execute_result"
    }
   ],
   "source": [
    "%%time\n",
    "decision('Борис сказал, что он придет.')"
   ]
  },
  {
   "cell_type": "code",
   "execution_count": 25,
   "id": "3dbee261",
   "metadata": {},
   "outputs": [
    {
     "name": "stdout",
     "output_type": "stream",
     "text": [
      "CPU times: user 5.41 ms, sys: 201 µs, total: 5.61 ms\n",
      "Wall time: 160 ms\n"
     ]
    },
    {
     "data": {
      "text/plain": [
       "'TRUE'"
      ]
     },
     "execution_count": 25,
     "metadata": {},
     "output_type": "execute_result"
    }
   ],
   "source": [
    "%%time\n",
    "decision('Борис взял и вышел.')"
   ]
  },
  {
   "cell_type": "code",
   "execution_count": 26,
   "id": "932a908b",
   "metadata": {},
   "outputs": [
    {
     "name": "stdout",
     "output_type": "stream",
     "text": [
      "CPU times: user 3.25 ms, sys: 3.93 ms, total: 7.18 ms\n",
      "Wall time: 205 ms\n"
     ]
    },
    {
     "data": {
      "text/plain": [
       "'FALSE'"
      ]
     },
     "execution_count": 26,
     "metadata": {},
     "output_type": "execute_result"
    }
   ],
   "source": [
    "%%time \n",
    "decision('Миша узнал, что нужно делать, когда он придёт домой.')"
   ]
  },
  {
   "cell_type": "code",
   "execution_count": 27,
   "id": "889e022d",
   "metadata": {},
   "outputs": [
    {
     "name": "stdout",
     "output_type": "stream",
     "text": [
      "CPU times: user 7.64 ms, sys: 0 ns, total: 7.64 ms\n",
      "Wall time: 167 ms\n"
     ]
    },
    {
     "data": {
      "text/plain": [
       "'coreference resolution'"
      ]
     },
     "execution_count": 27,
     "metadata": {},
     "output_type": "execute_result"
    }
   ],
   "source": [
    "%%time \n",
    "decision('Борис сказал, что богат.')"
   ]
  },
  {
   "cell_type": "code",
   "execution_count": 28,
   "id": "fe0da9ed",
   "metadata": {},
   "outputs": [
    {
     "name": "stdout",
     "output_type": "stream",
     "text": [
      "CPU times: user 5.61 ms, sys: 230 µs, total: 5.84 ms\n",
      "Wall time: 189 ms\n"
     ]
    },
    {
     "data": {
      "text/plain": [
       "'coreference resolution'"
      ]
     },
     "execution_count": 28,
     "metadata": {},
     "output_type": "execute_result"
    }
   ],
   "source": [
    "%%time\n",
    "decision(\"Борис сказал, он зайдет.\")"
   ]
  },
  {
   "cell_type": "code",
   "execution_count": 29,
   "id": "14f63e90",
   "metadata": {},
   "outputs": [
    {
     "name": "stdout",
     "output_type": "stream",
     "text": [
      "CPU times: user 9.85 ms, sys: 482 µs, total: 10.3 ms\n",
      "Wall time: 301 ms\n"
     ]
    },
    {
     "data": {
      "text/plain": [
       "'TRUE'"
      ]
     },
     "execution_count": 29,
     "metadata": {},
     "output_type": "execute_result"
    }
   ],
   "source": [
    "%%time \n",
    "decision(\"Он сел рядом со мной на дивание недалеко от камина и после долгого молчания, во время которого я стала чувствовать себя всё более неуютно, он начал говорить.\")"
   ]
  },
  {
   "cell_type": "code",
   "execution_count": 30,
   "id": "908f35bc",
   "metadata": {},
   "outputs": [
    {
     "name": "stdout",
     "output_type": "stream",
     "text": [
      "CPU times: user 6.42 ms, sys: 350 µs, total: 6.77 ms\n",
      "Wall time: 164 ms\n"
     ]
    },
    {
     "data": {
      "text/plain": [
       "'coreference resolution'"
      ]
     },
     "execution_count": 30,
     "metadata": {},
     "output_type": "execute_result"
    }
   ],
   "source": [
    "%%time \n",
    "decision(\"Он встал и он вышел\")"
   ]
  },
  {
   "cell_type": "code",
   "execution_count": null,
   "id": "0fade2d8",
   "metadata": {},
   "outputs": [],
   "source": [
    "decision(\"Дима распорядился, чтобы было объявлено, что он покинул страну.\")"
   ]
  },
  {
   "cell_type": "code",
   "execution_count": null,
   "id": "9d105d69",
   "metadata": {},
   "outputs": [],
   "source": [
    "decision(\"Лина хочет, чтобы выиграла\")"
   ]
  },
  {
   "cell_type": "code",
   "execution_count": null,
   "id": "a9c3f0c1",
   "metadata": {},
   "outputs": [],
   "source": [
    "decision(\"Дима сказал маме Кирилла, чтобы она приходила поскорее.\")"
   ]
  },
  {
   "cell_type": "code",
   "execution_count": null,
   "id": "61389fcf",
   "metadata": {},
   "outputs": [],
   "source": [
    "decision(\"Дима сказал маме Кирилла, чтобы приходила поскорее.\")"
   ]
  },
  {
   "cell_type": "markdown",
   "id": "b781afe5",
   "metadata": {},
   "source": [
    "# Classifier"
   ]
  },
  {
   "cell_type": "code",
   "execution_count": null,
   "id": "3b4f3eb8",
   "metadata": {},
   "outputs": [],
   "source": [
    "import numpy as np"
   ]
  },
  {
   "cell_type": "code",
   "execution_count": null,
   "id": "9a0dcbd5",
   "metadata": {},
   "outputs": [],
   "source": [
    "with open(DATA, mode='r', encoding='utf-16') as data:\n",
    "    df_clas = pd.read_csv(data, sep='\\t', header=None, names=['sentence', 'class'])"
   ]
  },
  {
   "cell_type": "code",
   "execution_count": null,
   "id": "a80b9b8d",
   "metadata": {},
   "outputs": [],
   "source": [
    "df_clas['sentence'] = df_clas['sentence'].apply(lambda x: classifier_preprocessing.preprocess(x))"
   ]
  },
  {
   "cell_type": "code",
   "execution_count": null,
   "id": "1289e1f5",
   "metadata": {},
   "outputs": [],
   "source": [
    "df_clas['class'] = df_clas['class'].apply(lambda x: classifier_preprocessing.class2id(x))"
   ]
  },
  {
   "cell_type": "code",
   "execution_count": null,
   "id": "0ff089bf",
   "metadata": {},
   "outputs": [],
   "source": [
    "df_clas"
   ]
  },
  {
   "cell_type": "code",
   "execution_count": null,
   "id": "986d4d8a",
   "metadata": {},
   "outputs": [],
   "source": [
    "import my_parsers"
   ]
  },
  {
   "cell_type": "code",
   "execution_count": null,
   "id": "cd123f2e",
   "metadata": {},
   "outputs": [],
   "source": [
    "%%time\n",
    "df_clas['conll'] = df_clas['sentence'].apply(lambda x: my_parsers.udpipe_req(x))"
   ]
  },
  {
   "cell_type": "code",
   "execution_count": null,
   "id": "37db71b5",
   "metadata": {},
   "outputs": [],
   "source": [
    "df_clas['cconj'] = df_clas['conll'].apply(lambda x: classifier_preprocessing.count_conj(x, 'CCONJ'))"
   ]
  },
  {
   "cell_type": "code",
   "execution_count": null,
   "id": "a4491b6b",
   "metadata": {},
   "outputs": [],
   "source": [
    "df_clas['sconj'] = df_clas['conll'].apply(lambda x: classifier_preprocessing.count_conj(x, 'SCONJ'))"
   ]
  },
  {
   "cell_type": "code",
   "execution_count": null,
   "id": "756c5050",
   "metadata": {},
   "outputs": [],
   "source": [
    "df_clas['tokens'] = df_clas['conll'].apply(lambda x: classifier_preprocessing.count_tokens(x))"
   ]
  },
  {
   "cell_type": "code",
   "execution_count": null,
   "id": "496f5753",
   "metadata": {},
   "outputs": [],
   "source": [
    "df_clas['nullp'] = df_clas['conll'].apply(lambda x: classifier_preprocessing.count_null_pron(x))"
   ]
  },
  {
   "cell_type": "code",
   "execution_count": null,
   "id": "90df612e",
   "metadata": {},
   "outputs": [],
   "source": [
    "df_clas['overtp'] = df_clas['conll'].apply(lambda x: classifier_preprocessing.count_overt_pron(x))"
   ]
  },
  {
   "cell_type": "code",
   "execution_count": null,
   "id": "fe7be653",
   "metadata": {},
   "outputs": [],
   "source": [
    "df_clas['adj'] = df_clas['conll'].apply(lambda x: classifier_preprocessing.count_adjuncts(x))"
   ]
  },
  {
   "cell_type": "code",
   "execution_count": null,
   "id": "7b6ba6d7",
   "metadata": {},
   "outputs": [],
   "source": [
    "df_clas['whq'] = df_clas['conll'].apply(lambda x: classifier_preprocessing.count_whquestions(x))"
   ]
  },
  {
   "cell_type": "code",
   "execution_count": null,
   "id": "522b5001",
   "metadata": {},
   "outputs": [],
   "source": [
    "df_clas['relc'] = df_clas['conll'].apply(lambda x: classifier_preprocessing.count_relclauses(x))"
   ]
  },
  {
   "cell_type": "code",
   "execution_count": null,
   "id": "3d69aca0",
   "metadata": {},
   "outputs": [],
   "source": [
    "df_clas['datdep'] = df_clas['conll'].apply(lambda x: classifier_preprocessing.count_case_nodes(x, 'Dat'))"
   ]
  },
  {
   "cell_type": "code",
   "execution_count": null,
   "id": "701a0268",
   "metadata": {},
   "outputs": [],
   "source": [
    "df_clas['nomdep'] = df_clas['conll'].apply(lambda x: classifier_preprocessing.count_case_nodes(x, 'Nom'))"
   ]
  },
  {
   "cell_type": "code",
   "execution_count": null,
   "id": "a4670125",
   "metadata": {},
   "outputs": [],
   "source": [
    "df_clas['rootlen'] = df_clas['conll'].apply(lambda x: classifier_preprocessing.get_root_length(x))"
   ]
  },
  {
   "cell_type": "code",
   "execution_count": null,
   "id": "319605c4",
   "metadata": {},
   "outputs": [],
   "source": [
    "df_clas['rootdeps'] = df_clas['conll'].apply(lambda x: classifier_preprocessing.count_root_dependents(x))"
   ]
  },
  {
   "cell_type": "code",
   "execution_count": null,
   "id": "6d38349b",
   "metadata": {},
   "outputs": [],
   "source": [
    "df_clas['rootpos'] = df_clas['conll'].apply(lambda x: classifier_preprocessing.get_root_pos(x))"
   ]
  },
  {
   "cell_type": "code",
   "execution_count": null,
   "id": "d00dd4fc",
   "metadata": {},
   "outputs": [],
   "source": [
    "df_clas['rootmatch'] = df_clas['conll'].apply(lambda x: classifier_preprocessing.is_there_exact_string_match(x))"
   ]
  },
  {
   "cell_type": "code",
   "execution_count": null,
   "id": "3f39df4a",
   "metadata": {
    "tags": []
   },
   "outputs": [],
   "source": [
    "df_clas['rootdatdep'] = df_clas['conll'].apply(lambda x: classifier_preprocessing.count_root_case_dep(x, 'Dat'))"
   ]
  },
  {
   "cell_type": "code",
   "execution_count": null,
   "id": "edccbe8a",
   "metadata": {},
   "outputs": [],
   "source": [
    "df_clas['rootnomdep'] = df_clas['conll'].apply(lambda x: classifier_preprocessing.count_root_case_dep(x, 'Nom'))"
   ]
  },
  {
   "cell_type": "code",
   "execution_count": null,
   "id": "1a1f9758",
   "metadata": {},
   "outputs": [],
   "source": [
    "df_clas['att'] = df_clas['conll'].apply(lambda x: classifier_preprocessing.is_there_att_verb(x))"
   ]
  },
  {
   "cell_type": "code",
   "execution_count": null,
   "id": "bd90eaad",
   "metadata": {},
   "outputs": [],
   "source": [
    "df_clas.head()"
   ]
  },
  {
   "cell_type": "markdown",
   "id": "a46a0f2b",
   "metadata": {},
   "source": [
    "# Data description"
   ]
  },
  {
   "cell_type": "code",
   "execution_count": null,
   "id": "3181027e",
   "metadata": {},
   "outputs": [],
   "source": [
    "df_clas = df_clas.drop(['conll', 'sentence'], axis=1)"
   ]
  },
  {
   "cell_type": "markdown",
   "id": "fe72926d",
   "metadata": {},
   "source": [
    "Number of 'FALSE' sentences"
   ]
  },
  {
   "cell_type": "code",
   "execution_count": null,
   "id": "d96d7aea",
   "metadata": {},
   "outputs": [],
   "source": [
    "len(df_clas[df_clas['class'] == 0])"
   ]
  },
  {
   "cell_type": "markdown",
   "id": "118e9b4e",
   "metadata": {},
   "source": [
    "Number of 'TRUE' sentences"
   ]
  },
  {
   "cell_type": "code",
   "execution_count": null,
   "id": "095cd9f2",
   "metadata": {},
   "outputs": [],
   "source": [
    "len(df_clas[df_clas['class'] == 1])"
   ]
  },
  {
   "cell_type": "markdown",
   "id": "961b83d0",
   "metadata": {},
   "source": [
    "Number of 'coreference resolution' sentences"
   ]
  },
  {
   "cell_type": "code",
   "execution_count": null,
   "id": "9afa5232",
   "metadata": {},
   "outputs": [],
   "source": [
    "len(df_clas[df_clas['class'] == 2])"
   ]
  },
  {
   "cell_type": "code",
   "execution_count": null,
   "id": "48e2e16a",
   "metadata": {},
   "outputs": [],
   "source": [
    "df_clas = df_clas[df_clas['class'] != 2]"
   ]
  },
  {
   "cell_type": "code",
   "execution_count": null,
   "id": "cfd9f2b1",
   "metadata": {},
   "outputs": [],
   "source": [
    "dataset = df_clas.to_numpy()"
   ]
  },
  {
   "cell_type": "code",
   "execution_count": null,
   "id": "6dfec075",
   "metadata": {},
   "outputs": [],
   "source": [
    "# target, data\n",
    "target = dataset[:,0]\n",
    "data = dataset[:,1:]"
   ]
  },
  {
   "cell_type": "markdown",
   "id": "d9310361",
   "metadata": {},
   "source": [
    "# Evaluation"
   ]
  },
  {
   "cell_type": "code",
   "execution_count": null,
   "id": "152e8977",
   "metadata": {},
   "outputs": [],
   "source": [
    "# !pip3 install matplotlib"
   ]
  },
  {
   "cell_type": "code",
   "execution_count": null,
   "id": "85975d02",
   "metadata": {},
   "outputs": [],
   "source": [
    "from sklearn.metrics import confusion_matrix, classification_report\n",
    "from sklearn.model_selection import cross_val_score\n",
    "from sklearn.model_selection import ShuffleSplit\n",
    "\n",
    "from sklearn.feature_selection import SelectFromModel\n",
    "from sklearn.feature_selection import SelectKBest, chi2\n",
    "from sklearn.linear_model import RidgeClassifier\n",
    "from sklearn.pipeline import Pipeline\n",
    "from sklearn.svm import LinearSVC\n",
    "from sklearn.linear_model import SGDClassifier\n",
    "from sklearn.linear_model import Perceptron\n",
    "from sklearn.linear_model import PassiveAggressiveClassifier\n",
    "from sklearn.naive_bayes import BernoulliNB, ComplementNB, MultinomialNB\n",
    "from sklearn.neighbors import KNeighborsClassifier\n",
    "from sklearn.neighbors import NearestCentroid\n",
    "from sklearn.ensemble import RandomForestClassifier\n",
    "from sklearn.utils.extmath import density\n",
    "\n",
    "import matplotlib.pyplot as plt"
   ]
  },
  {
   "cell_type": "code",
   "execution_count": null,
   "id": "baceb8ae",
   "metadata": {},
   "outputs": [],
   "source": [
    "def benchmark(clf):\n",
    "    print('Training: ', clf)\n",
    "    cv = ShuffleSplit(n_splits=5, test_size=0.3, random_state=0)\n",
    "    precisions = cross_val_score(clf, data, target, cv=cv, scoring='precision')\n",
    "    recalls = cross_val_score(clf, data, target, cv=cv, scoring='recall')\n",
    "    f1scores = cross_val_score(clf, data, target, cv=cv, scoring='f1')\n",
    "    \n",
    "    precision_mean = precisions.mean()\n",
    "    precision_std = precisions.std()\n",
    "    print('Precision - mean: ', precision_mean, ' - std: ', precision_std)\n",
    "    \n",
    "    recall_mean = recalls.mean()\n",
    "    recall_std = recalls.std()\n",
    "    print('Recall - mean: ', recall_mean, ' - std: ', recall_std)\n",
    "    \n",
    "    f1score_mean = f1scores.mean()\n",
    "    f1score_std = f1scores.std()\n",
    "    print('F1 score - mean: ', f1score_mean, ' - std: ', f1score_std)\n",
    "    \n",
    "    print()\n",
    "    clf_descr = str(clf).split('(')[0]\n",
    "    return clf_descr, precision_mean, recall_mean, f1score_mean"
   ]
  },
  {
   "cell_type": "code",
   "execution_count": null,
   "id": "419c35e2",
   "metadata": {},
   "outputs": [],
   "source": [
    "results = list()\n",
    "for clf, name in (\n",
    "        (RidgeClassifier(tol=1e-2, solver=\"sag\"), \"Ridge Classifier\"),\n",
    "        (Perceptron(max_iter=50), \"Perceptron\"),\n",
    "        (PassiveAggressiveClassifier(max_iter=50),\n",
    "         \"Passive-Aggressive\"),\n",
    "        (KNeighborsClassifier(n_neighbors=10), \"kNN\"),\n",
    "        (RandomForestClassifier(), \"Random forest\")):\n",
    "    print('=' * 80)\n",
    "    print(name)\n",
    "    results.append(benchmark(clf))\n",
    "\n",
    "for penalty in [\"l2\", \"l1\"]:\n",
    "    print('=' * 80)\n",
    "    print(\"%s penalty\" % penalty.upper())\n",
    "    # Train Liblinear model\n",
    "    results.append(benchmark(LinearSVC(penalty=penalty, dual=False,\n",
    "                                       tol=1e-3)))\n",
    "\n",
    "    # Train SGD model\n",
    "    results.append(benchmark(SGDClassifier(alpha=.0001, max_iter=500,\n",
    "                                           penalty=penalty)))\n",
    "\n",
    "# Train SGD with Elastic Net penalty\n",
    "print('=' * 80)\n",
    "print(\"Elastic-Net penalty\")\n",
    "results.append(benchmark(SGDClassifier(alpha=.0001, max_iter=500,\n",
    "                                       penalty=\"elasticnet\")))\n",
    "\n",
    "# Train NearestCentroid without threshold\n",
    "print('=' * 80)\n",
    "print(\"NearestCentroid (aka Rocchio classifier)\")\n",
    "results.append(benchmark(NearestCentroid()))\n",
    "\n",
    "# Train sparse Naive Bayes classifiers\n",
    "print('=' * 80)\n",
    "print(\"Naive Bayes\")\n",
    "results.append(benchmark(MultinomialNB(alpha=.01)))\n",
    "results.append(benchmark(BernoulliNB(alpha=.01)))\n",
    "results.append(benchmark(ComplementNB(alpha=.1)))\n",
    "\n",
    "print('=' * 80)\n",
    "print(\"LinearSVC with L1-based feature selection\")\n",
    "# The smaller C, the stronger the regularization.\n",
    "# The more regularization, the more sparsity.\n",
    "results.append(benchmark(Pipeline([\n",
    "  ('feature_selection', SelectFromModel(LinearSVC(penalty=\"l1\", dual=False,\n",
    "                                                  tol=1e-3, max_iter=30000))),\n",
    "  ('classification', LinearSVC(penalty=\"l2\", max_iter=30000))])))"
   ]
  },
  {
   "cell_type": "code",
   "execution_count": null,
   "id": "aee4738e",
   "metadata": {},
   "outputs": [],
   "source": [
    "indices = np.arange(len(results))\n",
    "\n",
    "results = [[x[i] for x in results] for i in range(4)]\n",
    "# print(results)\n",
    "\n",
    "clf_names, precision, recall, f1score = results\n",
    "\n",
    "plt.figure(figsize=(12, 8))\n",
    "plt.title(\"Evaluation\")\n",
    "\n",
    "plt.barh(indices, precision, .2, label=\"precision\", color='navy')\n",
    "plt.barh(indices + .3, recall, .2, label=\"recall\", color='c')\n",
    "plt.barh(indices + .6, f1score, .2, label=\"f1_score\", color='darkorange')\n",
    "\n",
    "plt.yticks(())\n",
    "plt.legend(loc='best')\n",
    "plt.subplots_adjust(left=.25)\n",
    "plt.subplots_adjust(top=.95)\n",
    "plt.subplots_adjust(bottom=.05)\n",
    "\n",
    "for i, c in zip(indices, clf_names):\n",
    "    plt.text(-.3, i, c)\n",
    "\n",
    "plt.show()"
   ]
  },
  {
   "cell_type": "code",
   "execution_count": null,
   "id": "f4117257",
   "metadata": {},
   "outputs": [],
   "source": []
  }
 ],
 "metadata": {
  "kernelspec": {
   "display_name": "mkilina.github.io",
   "language": "python",
   "name": "mkilina.github.io"
  },
  "language_info": {
   "codemirror_mode": {
    "name": "ipython",
    "version": 3
   },
   "file_extension": ".py",
   "mimetype": "text/x-python",
   "name": "python",
   "nbconvert_exporter": "python",
   "pygments_lexer": "ipython3",
   "version": "3.8.5"
  }
 },
 "nbformat": 4,
 "nbformat_minor": 5
}
