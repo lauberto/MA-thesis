{
 "cells": [
  {
   "cell_type": "markdown",
   "id": "7a1d1065-f33f-462b-b357-216ec2f39f53",
   "metadata": {},
   "source": [
    "Text preprocessing"
   ]
  },
  {
   "cell_type": "code",
   "execution_count": 1,
   "id": "983a9232",
   "metadata": {},
   "outputs": [
    {
     "output_type": "error",
     "ename": "IndentationError",
     "evalue": "unexpected indent (prodrop_check.py, line 297)",
     "traceback": [
      "Traceback \u001b[0;36m(most recent call last)\u001b[0m:\n",
      "  File \u001b[1;32m\"/home/lauberto/.local/lib/python3.8/site-packages/IPython/core/interactiveshell.py\"\u001b[0m, line \u001b[1;32m3441\u001b[0m, in \u001b[1;35mrun_code\u001b[0m\n    exec(code_obj, self.user_global_ns, self.user_ns)\n",
      "  File \u001b[1;32m\"<ipython-input-1-3c2fb8abc22d>\"\u001b[0m, line \u001b[1;32m7\u001b[0m, in \u001b[1;35m<module>\u001b[0m\n    from voters import decision\n",
      "\u001b[0;36m  File \u001b[0;32m\"/home/lauberto/Desktop/MA-thesis/scripts/voters.py\"\u001b[0;36m, line \u001b[0;32m2\u001b[0;36m, in \u001b[0;35m<module>\u001b[0;36m\u001b[0m\n\u001b[0;31m    import prodrop_check\u001b[0m\n",
      "\u001b[0;36m  File \u001b[0;32m\"/home/lauberto/Desktop/MA-thesis/scripts/prodrop_check.py\"\u001b[0;36m, line \u001b[0;32m297\u001b[0m\n\u001b[0;31m    for sent in conllu_sents:\u001b[0m\n\u001b[0m    ^\u001b[0m\n\u001b[0;31mIndentationError\u001b[0m\u001b[0;31m:\u001b[0m unexpected indent\n"
     ]
    }
   ],
   "source": [
    "import os, re\n",
    "import pandas\n",
    "import ufal.udpipe\n",
    "import conllu\n",
    "\n",
    "import my_parsers\n",
    "from voters import decision"
   ]
  },
  {
   "cell_type": "code",
   "execution_count": 2,
   "id": "f59d9c67-05bb-42f9-80f6-2ace5c031d9d",
   "metadata": {},
   "outputs": [],
   "source": [
    "DATA = os.path.join(os.getcwd(), 'Gold_standard_for_validation.txt')"
   ]
  },
  {
   "cell_type": "code",
   "execution_count": 3,
   "id": "9249c0fb-b80c-4157-ae3c-67231c427e34",
   "metadata": {},
   "outputs": [],
   "source": [
    "with open(DATA, mode='r', encoding='utf-16') as data:\n",
    "    corpus = data.read()"
   ]
  },
  {
   "cell_type": "code",
   "execution_count": 4,
   "id": "0b89f8a9",
   "metadata": {},
   "outputs": [],
   "source": [
    "with open(DATA, mode='r', encoding='utf-16') as data:\n",
    "    df = pandas.read_csv(data, sep='\\t', header=None, names=['sentence', 'class', 'nan'])"
   ]
  },
  {
   "cell_type": "code",
   "execution_count": 5,
   "id": "88e6f613",
   "metadata": {},
   "outputs": [],
   "source": [
    "df = df.drop(['nan'], axis=1).drop([181])"
   ]
  },
  {
   "cell_type": "code",
   "execution_count": 6,
   "id": "47d16039",
   "metadata": {},
   "outputs": [],
   "source": [
    "txt = 'Борис сказал, что придёт'\n",
    "txt2 = 'Борис сказал, что он придёт'\n",
    "x = my_parsers.udpipe_req(txt)\n",
    "y = my_parsers.udpipe_req(txt2)"
   ]
  },
  {
   "cell_type": "code",
   "execution_count": 7,
   "id": "545e60ed",
   "metadata": {},
   "outputs": [
    {
     "output_type": "stream",
     "name": "stdout",
     "text": [
      "CPU times: user 12.8 ms, sys: 0 ns, total: 12.8 ms\nWall time: 167 ms\n"
     ]
    },
    {
     "output_type": "execute_result",
     "data": {
      "text/plain": [
       "{'TRUE': 0, 'FALSE': 0, 'coreference resolution': 2}"
      ]
     },
     "metadata": {},
     "execution_count": 7
    }
   ],
   "source": [
    "%%time\n",
    "decision('Борис сказал, что придет.')"
   ]
  },
  {
   "cell_type": "code",
   "execution_count": 8,
   "id": "c98c2cc6",
   "metadata": {},
   "outputs": [
    {
     "output_type": "stream",
     "name": "stdout",
     "text": [
      "CPU times: user 10.8 ms, sys: 780 µs, total: 11.5 ms\nWall time: 169 ms\n"
     ]
    },
    {
     "output_type": "execute_result",
     "data": {
      "text/plain": [
       "{'TRUE': 2, 'FALSE': 0, 'coreference resolution': 0}"
      ]
     },
     "metadata": {},
     "execution_count": 8
    }
   ],
   "source": [
    "%%time\n",
    "decision('Борис сказал, что он придет.')"
   ]
  },
  {
   "cell_type": "code",
   "execution_count": 9,
   "id": "932a908b",
   "metadata": {},
   "outputs": [
    {
     "output_type": "stream",
     "name": "stdout",
     "text": [
      "CPU times: user 9.7 ms, sys: 0 ns, total: 9.7 ms\nWall time: 176 ms\n"
     ]
    },
    {
     "output_type": "execute_result",
     "data": {
      "text/plain": [
       "{'TRUE': 2, 'FALSE': 0, 'coreference resolution': 0}"
      ]
     },
     "metadata": {},
     "execution_count": 9
    }
   ],
   "source": [
    "%%time \n",
    "decision('Миша узнал, что нужно делать, когда он придёт домой.')"
   ]
  },
  {
   "cell_type": "code",
   "execution_count": 10,
   "metadata": {},
   "outputs": [
    {
     "output_type": "stream",
     "name": "stdout",
     "text": [
      "CPU times: user 8.75 ms, sys: 2.9 ms, total: 11.7 ms\nWall time: 156 ms\n"
     ]
    },
    {
     "output_type": "execute_result",
     "data": {
      "text/plain": [
       "{'TRUE': 0, 'FALSE': 0, 'coreference resolution': 1}"
      ]
     },
     "metadata": {},
     "execution_count": 10
    }
   ],
   "source": [
    "%%time \n",
    "decision('Борис сказал, что богат.')"
   ]
  },
  {
   "cell_type": "code",
   "execution_count": 11,
   "metadata": {},
   "outputs": [
    {
     "output_type": "stream",
     "name": "stdout",
     "text": [
      "CPU times: user 7.77 ms, sys: 983 µs, total: 8.76 ms\nWall time: 162 ms\n"
     ]
    },
    {
     "output_type": "execute_result",
     "data": {
      "text/plain": [
       "{'TRUE': 1, 'FALSE': 0, 'coreference resolution': 0}"
      ]
     },
     "metadata": {},
     "execution_count": 11
    }
   ],
   "source": [
    "%%time\n",
    "decision(\"Борис сказал, он зайдет.\")"
   ]
  },
  {
   "cell_type": "code",
   "execution_count": 3,
   "metadata": {},
   "outputs": [
    {
     "output_type": "error",
     "ename": "NameError",
     "evalue": "name 'decision' is not defined",
     "traceback": [
      "\u001b[0;31m---------------------------------------------------------------------------\u001b[0m",
      "\u001b[0;31mNameError\u001b[0m                                 Traceback (most recent call last)",
      "\u001b[0;32m<timed eval>\u001b[0m in \u001b[0;36m<module>\u001b[0;34m\u001b[0m\n",
      "\u001b[0;31mNameError\u001b[0m: name 'decision' is not defined"
     ]
    }
   ],
   "source": [
    "%%time \n",
    "decision(\"Он сел рядом со мной на дивание недалеко от камина и после долгого молчания, во время которого я стала чувствовать себя всё более неуютно, он начал говорить.\")"
   ]
  },
  {
   "cell_type": "code",
   "execution_count": null,
   "metadata": {},
   "outputs": [],
   "source": []
  }
 ],
 "metadata": {
  "kernelspec": {
   "display_name": "mkilina.github.io",
   "language": "python",
   "name": "mkilina.github.io"
  },
  "language_info": {
   "codemirror_mode": {
    "name": "ipython",
    "version": 3
   },
   "file_extension": ".py",
   "mimetype": "text/x-python",
   "name": "python",
   "nbconvert_exporter": "python",
   "pygments_lexer": "ipython3",
   "version": "3.8.5"
  }
 },
 "nbformat": 4,
 "nbformat_minor": 5
}