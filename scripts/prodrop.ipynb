{
 "cells": [
  {
   "cell_type": "markdown",
   "id": "7a1d1065-f33f-462b-b357-216ec2f39f53",
   "metadata": {},
   "source": [
    "Text preprocessing"
   ]
  },
  {
   "cell_type": "code",
   "execution_count": 2,
   "id": "983a9232",
   "metadata": {},
   "outputs": [],
   "source": [
    "import os, re\n",
    "import pandas\n",
    "import ufal.udpipe\n",
    "import conllu"
   ]
  },
  {
   "cell_type": "code",
   "execution_count": 3,
   "id": "3ffc427f",
   "metadata": {},
   "outputs": [],
   "source": [
    "from voters import decision"
   ]
  },
  {
   "cell_type": "code",
   "execution_count": 4,
   "id": "f59d9c67-05bb-42f9-80f6-2ace5c031d9d",
   "metadata": {},
   "outputs": [],
   "source": [
    "DATA = os.path.join(os.getcwd(), 'Gold_standard_for_validation.txt')"
   ]
  },
  {
   "cell_type": "code",
   "execution_count": 5,
   "id": "9249c0fb-b80c-4157-ae3c-67231c427e34",
   "metadata": {},
   "outputs": [],
   "source": [
    "with open(DATA, mode='r', encoding='utf-16') as data:\n",
    "    corpus = data.read()"
   ]
  },
  {
   "cell_type": "code",
   "execution_count": 6,
   "id": "5495194c-d6e5-497d-b6a6-50ee188dfc34",
   "metadata": {},
   "outputs": [
    {
     "output_type": "execute_result",
     "data": {
      "text/plain": [
       "'Борис'"
      ]
     },
     "metadata": {},
     "execution_count": 6
    }
   ],
   "source": [
    "corpus[:5]"
   ]
  },
  {
   "cell_type": "code",
   "execution_count": 7,
   "id": "0b89f8a9",
   "metadata": {},
   "outputs": [],
   "source": [
    "with open(DATA, mode='r', encoding='utf-16') as data:\n",
    "    df = pandas.read_csv(data, sep='\\t', header=None, names=['sentence', 'class', 'nan'])"
   ]
  },
  {
   "cell_type": "code",
   "execution_count": 8,
   "id": "88e6f613",
   "metadata": {},
   "outputs": [],
   "source": [
    "df = df.drop(['nan'], axis=1).drop([181])"
   ]
  },
  {
   "cell_type": "code",
   "execution_count": 9,
   "id": "c2ce71ed",
   "metadata": {},
   "outputs": [
    {
     "output_type": "execute_result",
     "data": {
      "text/plain": [
       "                                              sentence                   class\n",
       "0                            Борис сказал, что придёт.  coreference resolution\n",
       "1                         Борис сказал, что он придёт.                    TRUE\n",
       "2                     Борис говорил, что это он сделал                    TRUE\n",
       "3                          Борис объявил, что он готов                    TRUE\n",
       "4                             Борис объявил, что готов  coreference resolution\n",
       "..                                                 ...                     ...\n",
       "176   Лена пообещала, что мне покажет свой дом завтра.                   FALSE\n",
       "177  Лена сказала, что к празднику она хочет пригот...                    TRUE\n",
       "178  Лена сказала, что к празднику хочет приготовит...                    TRUE\n",
       "179  Я всех предупредил, что по выходным я работаю ...                    TRUE\n",
       "180  Я всех предупредил, что по выходным работаю на...                    TRUE\n",
       "\n",
       "[181 rows x 2 columns]"
      ],
      "text/html": "<div>\n<style scoped>\n    .dataframe tbody tr th:only-of-type {\n        vertical-align: middle;\n    }\n\n    .dataframe tbody tr th {\n        vertical-align: top;\n    }\n\n    .dataframe thead th {\n        text-align: right;\n    }\n</style>\n<table border=\"1\" class=\"dataframe\">\n  <thead>\n    <tr style=\"text-align: right;\">\n      <th></th>\n      <th>sentence</th>\n      <th>class</th>\n    </tr>\n  </thead>\n  <tbody>\n    <tr>\n      <th>0</th>\n      <td>Борис сказал, что придёт.</td>\n      <td>coreference resolution</td>\n    </tr>\n    <tr>\n      <th>1</th>\n      <td>Борис сказал, что он придёт.</td>\n      <td>TRUE</td>\n    </tr>\n    <tr>\n      <th>2</th>\n      <td>Борис говорил, что это он сделал</td>\n      <td>TRUE</td>\n    </tr>\n    <tr>\n      <th>3</th>\n      <td>Борис объявил, что он готов</td>\n      <td>TRUE</td>\n    </tr>\n    <tr>\n      <th>4</th>\n      <td>Борис объявил, что готов</td>\n      <td>coreference resolution</td>\n    </tr>\n    <tr>\n      <th>...</th>\n      <td>...</td>\n      <td>...</td>\n    </tr>\n    <tr>\n      <th>176</th>\n      <td>Лена пообещала, что мне покажет свой дом завтра.</td>\n      <td>FALSE</td>\n    </tr>\n    <tr>\n      <th>177</th>\n      <td>Лена сказала, что к празднику она хочет пригот...</td>\n      <td>TRUE</td>\n    </tr>\n    <tr>\n      <th>178</th>\n      <td>Лена сказала, что к празднику хочет приготовит...</td>\n      <td>TRUE</td>\n    </tr>\n    <tr>\n      <th>179</th>\n      <td>Я всех предупредил, что по выходным я работаю ...</td>\n      <td>TRUE</td>\n    </tr>\n    <tr>\n      <th>180</th>\n      <td>Я всех предупредил, что по выходным работаю на...</td>\n      <td>TRUE</td>\n    </tr>\n  </tbody>\n</table>\n<p>181 rows × 2 columns</p>\n</div>"
     },
     "metadata": {},
     "execution_count": 9
    }
   ],
   "source": [
    "df"
   ]
  },
  {
   "cell_type": "markdown",
   "id": "124b2df3",
   "metadata": {},
   "source": [
    "## UDPipe Parsing"
   ]
  },
  {
   "cell_type": "code",
   "execution_count": 11,
   "metadata": {},
   "outputs": [],
   "source": [
    "import my_parsers"
   ]
  },
  {
   "cell_type": "code",
   "execution_count": 12,
   "id": "47d16039",
   "metadata": {},
   "outputs": [],
   "source": [
    "txt = 'Борис сказал, что придёт'\n",
    "txt2 = 'Борис сказал, что он придёт'\n",
    "x = my_parsers.udpipe_req(txt)\n",
    "y = my_parsers.udpipe_req(txt2)"
   ]
  },
  {
   "cell_type": "code",
   "execution_count": 14,
   "id": "545e60ed",
   "metadata": {},
   "outputs": [
    {
     "output_type": "stream",
     "name": "stdout",
     "text": [
      "CPU times: user 7.15 ms, sys: 609 µs, total: 7.76 ms\nWall time: 599 ms\n"
     ]
    },
    {
     "output_type": "execute_result",
     "data": {
      "text/plain": [
       "'coreference resolution'"
      ]
     },
     "metadata": {},
     "execution_count": 14
    }
   ],
   "source": [
    "%%time\n",
    "decision('Борис сказал, что придет')"
   ]
  },
  {
   "cell_type": "code",
   "execution_count": 15,
   "id": "c98c2cc6",
   "metadata": {},
   "outputs": [
    {
     "output_type": "stream",
     "name": "stdout",
     "text": [
      "CPU times: user 6.12 ms, sys: 2.86 ms, total: 8.98 ms\nWall time: 2.07 s\n"
     ]
    },
    {
     "output_type": "execute_result",
     "data": {
      "text/plain": [
       "'TRUE'"
      ]
     },
     "metadata": {},
     "execution_count": 15
    }
   ],
   "source": [
    "%%time\n",
    "decision('Борис сказал, что он придет')"
   ]
  },
  {
   "cell_type": "code",
   "execution_count": 16,
   "id": "932a908b",
   "metadata": {},
   "outputs": [
    {
     "output_type": "stream",
     "name": "stdout",
     "text": [
      "CPU times: user 12.9 ms, sys: 214 µs, total: 13.1 ms\nWall time: 574 ms\n"
     ]
    },
    {
     "output_type": "execute_result",
     "data": {
      "text/plain": [
       "'TRUE'"
      ]
     },
     "metadata": {},
     "execution_count": 16
    }
   ],
   "source": [
    "%%time \n",
    "decision('Миша узнал, что нужно делать, когда он придёт домой.')"
   ]
  }
 ],
 "metadata": {
  "kernelspec": {
   "display_name": "mkilina.github.io",
   "language": "python",
   "name": "mkilina.github.io"
  },
  "language_info": {
   "codemirror_mode": {
    "name": "ipython",
    "version": 3
   },
   "file_extension": ".py",
   "mimetype": "text/x-python",
   "name": "python",
   "nbconvert_exporter": "python",
   "pygments_lexer": "ipython3",
   "version": "3.8.5"
  }
 },
 "nbformat": 4,
 "nbformat_minor": 5
}